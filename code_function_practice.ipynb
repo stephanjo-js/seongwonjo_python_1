{
 "cells": [
  {
   "cell_type": "code",
   "execution_count": 1,
   "source": [
    "def is_valid_strdigit(c, base=2):\r\n",
    "    if type (c) is not str: return False # Reject non-string digits\r\n",
    "    if (type (base) is not int) or (base < 2) or (base > 36): return False # Reject non-integer bases outside 2-36\r\n",
    "    if base < 2 or base > 36: return False # Reject bases outside 2-36\r\n",
    "    if len (c) != 1: return False # Reject anything that is not a single character\r\n",
    "    if '0' <= c <= str (min (base-1, 9)): return True # Numerical digits for bases up to 10\r\n",
    "    if base > 10 and 0 <= ord (c) - ord ('a') < base-10: return True # Letter digits for bases > 10\r\n",
    "    return False # Reject everything else\r\n",
    "\r\n",
    "def valid_strdigits(base=2):\r\n",
    "    POSSIBLE_DIGITS = '0123456789abcdefghijklmnopqrstuvwxyz'\r\n",
    "    return [c for c in POSSIBLE_DIGITS if is_valid_strdigit(c, base)]\r\n",
    "\r\n",
    "def print_valid_strdigits(base=2):\r\n",
    "    valid_list = valid_strdigits(base)\r\n",
    "    if not valid_list:\r\n",
    "        msg = '(none)'\r\n",
    "    else:\r\n",
    "        msg = ', '.join([c for c in valid_list])\r\n",
    "    print('The valid base ' + str(base) + ' digits: ' + msg)\r\n",
    "    \r\n",
    "# Quick demo:\r\n",
    "print_valid_strdigits(6)\r\n",
    "print_valid_strdigits(16)\r\n",
    "print_valid_strdigits(23)"
   ],
   "outputs": [
    {
     "output_type": "stream",
     "name": "stdout",
     "text": [
      "The valid base 6 digits: 0, 1, 2, 3, 4, 5\n",
      "The valid base 16 digits: 0, 1, 2, 3, 4, 5, 6, 7, 8, 9, a, b, c, d, e, f\n",
      "The valid base 23 digits: 0, 1, 2, 3, 4, 5, 6, 7, 8, 9, a, b, c, d, e, f, g, h, i, j, k, l, m\n"
     ]
    }
   ],
   "metadata": {}
  },
  {
   "cell_type": "code",
   "execution_count": 3,
   "source": [
    "def eval_strint(s, base=2):\r\n",
    "    assert type(s) is str\r\n",
    "    assert 2 <= base <= 36\r\n",
    "    ###\r\n",
    "    ### YOUR CODE HERE\r\n",
    "    ###\r\n",
    "\r\n",
    "\r\n",
    "#     return int(s, base)\r\n",
    "  \r\n",
    "    \r\n",
    "    \r\n",
    "    \r\n",
    "    return int(s, base)"
   ],
   "outputs": [],
   "metadata": {}
  },
  {
   "cell_type": "code",
   "execution_count": 4,
   "source": [
    "# Test: `eval_strint_test0` (1 point)\r\n",
    "\r\n",
    "def check_eval_strint(s, v, base=2):\r\n",
    "    v_s = eval_strint(s, base)\r\n",
    "    msg = \"'{}' -> {}\".format (s, v_s)\r\n",
    "    print(msg)\r\n",
    "    assert v_s == v, \"Results do not match expected solution.\"\r\n",
    "\r\n",
    "# Test 0: From the videos\r\n",
    "check_eval_strint('16180339887', 16180339887, base=10)\r\n",
    "print (\"\\n(Passed!)\")"
   ],
   "outputs": [
    {
     "output_type": "stream",
     "name": "stdout",
     "text": [
      "'16180339887' -> 16180339887\n",
      "\n",
      "(Passed!)\n"
     ]
    }
   ],
   "metadata": {}
  },
  {
   "cell_type": "code",
   "execution_count": 9,
   "source": [
    "def is_valid_strfrac(s, base=2):\r\n",
    "    return all([is_valid_strdigit(c, base) for c in s if c != '.']) \\\r\n",
    "        and (len([c for c in s if c == '.']) <= 1)\r\n",
    "    \r\n",
    "def eval_strfrac(s, base=2):\r\n",
    "    assert is_valid_strfrac(s, base), \"'{}' contains invalid digits for a base-{} number.\".format(s, base)\r\n",
    "    \r\n",
    "    ###\r\n",
    "    ### YOUR CODE HERE\r\n",
    "    ###\r\n",
    "\r\n",
    "    \r\n",
    "    if '.' not in s:\r\n",
    "        final = float(eval_strint(s, base))\r\n",
    "    else:\r\n",
    "        valid = valid_strdigits(base)\r\n",
    "        int_num, f_num = str(s).split(\".\")\r\n",
    "        final = 0.0\r\n",
    "        for i in range(len(int_num)):\r\n",
    "            final += int(valid.index(int_num[::-1][i]))*(base**i)\r\n",
    "\r\n",
    "        for j in range(len(f_num)):\r\n",
    "            final += int(valid.index(f_num[j]))*(base**(-(j+1)))\r\n",
    "                 \r\n",
    "    return final"
   ],
   "outputs": [],
   "metadata": {}
  },
  {
   "cell_type": "code",
   "execution_count": 13,
   "source": [
    "def eval_strfrac(s, base=2):\r\n",
    "    assert is_valid_strfrac(s, base), \"'{}' contains invalid digits for a base-{} number.\".format(s, base)\r\n",
    "    \r\n",
    "\r\n",
    "# def check_eval_strfrac(s, v_true, base=2, tol=1e-7):\r\n",
    "#     v_you = eval_strfrac(s, base)\r\n",
    "#     assert type(v_you) is float, \"Your function did not return a `float` as instructed.\"\r\n",
    "#     delta_v = v_you - v_true\r\n",
    "#     msg = \" {}_ {} ~= {}: You computed {}, which differs by {}.\".format(s, base, v_true,\r\n",
    "#                                                                             v_you, delta_v)\r\n",
    "#     print(msg)\r\n",
    "#     assert abs(delta_v) <= tol, \"Difference exceeds expected tolerance.\"\r\n",
    "    \r\n",
    "# Test cases from the video\r\n",
    "eval_strfrac('3.14', base=5)\r\n",
    "eval_strfrac('100.101', base=2)\r\n",
    "eval_strfrac('11.0010001111', base=2)\r\n",
    "\r\n",
    "# A hex test case\r\n",
    "eval_strfrac('f15.abcd', base=16)\r\n",
    "\r\n",
    "# print(\"\\n(Passed!)\")"
   ],
   "outputs": [],
   "metadata": {}
  },
  {
   "cell_type": "code",
   "execution_count": 29,
   "source": [
    "a, b = 0, 1\r\n",
    "while b < 1000:\r\n",
    "    print(b, end=' ')\r\n",
    "    a, b = b, b+a\r\n",
    "print()  "
   ],
   "outputs": [
    {
     "output_type": "stream",
     "name": "stdout",
     "text": [
      "1 1 2 3 5 8 13 21 34 55 89 144 233 377 610 987 \n"
     ]
    }
   ],
   "metadata": {}
  },
  {
   "cell_type": "code",
   "execution_count": 15,
   "source": [
    "works = ['one', 'two', 'three', 'four', 'five']\r\n",
    "\r\n",
    "n = 0\r\n",
    "while (n < 5) :\r\n",
    "    print(works[n])\r\n",
    "    n += 1"
   ],
   "outputs": [
    {
     "output_type": "stream",
     "name": "stdout",
     "text": [
      "one\n",
      "two\n",
      "three\n",
      "four\n",
      "five\n"
     ]
    }
   ],
   "metadata": {}
  },
  {
   "cell_type": "code",
   "execution_count": 33,
   "source": [
    "words = ['one', 'two', 'three', 'four', 'five']\r\n",
    "\r\n",
    "for i in words:\r\n",
    "    print(i)\r\n",
    "\r\n"
   ],
   "outputs": [
    {
     "output_type": "error",
     "ename": "SyntaxError",
     "evalue": "'return' outside function (<ipython-input-33-d621b0bcf9f4>, line 5)",
     "traceback": [
      "\u001b[1;36m  File \u001b[1;32m\"<ipython-input-33-d621b0bcf9f4>\"\u001b[1;36m, line \u001b[1;32m5\u001b[0m\n\u001b[1;33m    return i\u001b[0m\n\u001b[1;37m    ^\u001b[0m\n\u001b[1;31mSyntaxError\u001b[0m\u001b[1;31m:\u001b[0m 'return' outside function\n"
     ]
    }
   ],
   "metadata": {}
  },
  {
   "cell_type": "code",
   "execution_count": 40,
   "source": [
    "def function(n = 1):\r\n",
    "    print(n)\r\n",
    "    return n=2\r\n",
    "\r\n",
    "x = function(42)\r\n",
    "print(x)"
   ],
   "outputs": [
    {
     "output_type": "error",
     "ename": "SyntaxError",
     "evalue": "invalid syntax (<ipython-input-40-f6c968134bd6>, line 3)",
     "traceback": [
      "\u001b[1;36m  File \u001b[1;32m\"<ipython-input-40-f6c968134bd6>\"\u001b[1;36m, line \u001b[1;32m3\u001b[0m\n\u001b[1;33m    return n=2\u001b[0m\n\u001b[1;37m            ^\u001b[0m\n\u001b[1;31mSyntaxError\u001b[0m\u001b[1;31m:\u001b[0m invalid syntax\n"
     ]
    }
   ],
   "metadata": {}
  },
  {
   "cell_type": "code",
   "execution_count": 44,
   "source": [
    "def isprime(n):\r\n",
    "    if n <=1:\r\n",
    "        return False\r\n",
    "    for x in range(2,n):\r\n",
    "        if n % x == 0:\r\n",
    "            return False\r\n",
    "    else:\r\n",
    "        return True\r\n",
    "\r\n",
    "def list_primes():\r\n",
    "    for n in range(100):\r\n",
    "        if isprime(n):\r\n",
    "            print(n, end= ' ')\r\n",
    "    print()\r\n",
    "\r\n",
    "list_primes()\r\n",
    "\r\n",
    "# n = 6\r\n",
    "# if isprime(n):\r\n",
    "#     print(f'{n} is prime')\r\n",
    "# else:\r\n",
    "#     print(f'{n} not prime')"
   ],
   "outputs": [
    {
     "output_type": "stream",
     "name": "stdout",
     "text": [
      "2 3 5 7 11 13 17 19 23 29 31 37 41 43 47 53 59 61 67 71 73 79 83 89 97 \n"
     ]
    }
   ],
   "metadata": {}
  },
  {
   "cell_type": "code",
   "execution_count": 45,
   "source": [
    "x = 7.0\r\n",
    "print('x is {}'.format(x))\r\n",
    "print(type(x))"
   ],
   "outputs": [
    {
     "output_type": "stream",
     "name": "stdout",
     "text": [
      "x is 7.0\n",
      "<class 'float'>\n"
     ]
    }
   ],
   "metadata": {}
  },
  {
   "cell_type": "code",
   "execution_count": 52,
   "source": [
    "x = 'seven \"{1:<09}\" \"{0:>09}\"'.format(8,9)\r\n",
    "print('x is {}'.format(x))\r\n",
    "print(type(x))\r\n"
   ],
   "outputs": [
    {
     "output_type": "stream",
     "name": "stdout",
     "text": [
      "x is seven \"900000000\" \"000000008\"\n",
      "<class 'str'>\n"
     ]
    }
   ],
   "metadata": {}
  },
  {
   "cell_type": "code",
   "execution_count": 53,
   "source": [
    "a = 8\r\n",
    "b = 9\r\n",
    "\r\n",
    "x = f'seven {a} {b}'\r\n",
    "print('x is {}'.format(x))\r\n",
    "print(type(x))"
   ],
   "outputs": [
    {
     "output_type": "stream",
     "name": "stdout",
     "text": [
      "x is seven 8 9\n",
      "<class 'str'>\n"
     ]
    }
   ],
   "metadata": {}
  },
  {
   "cell_type": "code",
   "execution_count": 54,
   "source": [
    "a = 8\r\n",
    "b = 9\r\n",
    "\r\n",
    "x = f'seven {a:<09} {b:>09}'\r\n",
    "print('x is {}'.format(x))\r\n",
    "print(type(x))"
   ],
   "outputs": [
    {
     "output_type": "stream",
     "name": "stdout",
     "text": [
      "x is seven 800000000 000000009\n",
      "<class 'str'>\n"
     ]
    }
   ],
   "metadata": {}
  },
  {
   "cell_type": "code",
   "execution_count": 55,
   "source": [
    "x = 7*3\r\n",
    "print('x is {}'.format(x))\r\n",
    "print(type(x))"
   ],
   "outputs": [
    {
     "output_type": "stream",
     "name": "stdout",
     "text": [
      "x is 21\n",
      "<class 'int'>\n"
     ]
    }
   ],
   "metadata": {}
  },
  {
   "cell_type": "code",
   "execution_count": 56,
   "source": [
    "x = 7*3.14159\r\n",
    "print('x is {}'.format(x))\r\n",
    "print(type(x))"
   ],
   "outputs": [
    {
     "output_type": "stream",
     "name": "stdout",
     "text": [
      "x is 21.99113\n",
      "<class 'float'>\n"
     ]
    }
   ],
   "metadata": {}
  },
  {
   "cell_type": "code",
   "execution_count": 57,
   "source": [
    "x = 7/3\r\n",
    "print('x is {}'.format(x))\r\n",
    "print(type(x))"
   ],
   "outputs": [
    {
     "output_type": "stream",
     "name": "stdout",
     "text": [
      "x is 2.3333333333333335\n",
      "<class 'float'>\n"
     ]
    }
   ],
   "metadata": {}
  },
  {
   "cell_type": "code",
   "execution_count": 58,
   "source": [
    "x = 7%3\r\n",
    "print('x is {}'.format(x))\r\n",
    "print(type(x))"
   ],
   "outputs": [
    {
     "output_type": "stream",
     "name": "stdout",
     "text": [
      "x is 1\n",
      "<class 'int'>\n"
     ]
    }
   ],
   "metadata": {}
  },
  {
   "cell_type": "code",
   "execution_count": 59,
   "source": [
    "x = 7//3\r\n",
    "print('x is {}'.format(x))\r\n",
    "print(type(x))"
   ],
   "outputs": [
    {
     "output_type": "stream",
     "name": "stdout",
     "text": [
      "x is 2\n",
      "<class 'int'>\n"
     ]
    }
   ],
   "metadata": {}
  },
  {
   "cell_type": "code",
   "execution_count": 60,
   "source": [
    "x = .1+.1+.1-.3\r\n",
    "print('x is {}'.format(x))\r\n",
    "print(type(x))"
   ],
   "outputs": [
    {
     "output_type": "stream",
     "name": "stdout",
     "text": [
      "x is 5.551115123125783e-17\n",
      "<class 'float'>\n"
     ]
    }
   ],
   "metadata": {}
  },
  {
   "cell_type": "code",
   "execution_count": 61,
   "source": [
    "from decimal import *\r\n",
    "\r\n",
    "a = Decimal('.10')\r\n",
    "b = Decimal('.30')\r\n",
    "\r\n",
    "x = a + a + a -b \r\n",
    "print('x is {}'.format(x))\r\n",
    "print(type(x))"
   ],
   "outputs": [
    {
     "output_type": "stream",
     "name": "stdout",
     "text": [
      "x is 0.00\n",
      "<class 'decimal.Decimal'>\n"
     ]
    }
   ],
   "metadata": {}
  },
  {
   "cell_type": "code",
   "execution_count": 62,
   "source": [
    "x = True\r\n",
    "print('x is {}'.format(x))\r\n",
    "print(type(x))"
   ],
   "outputs": [
    {
     "output_type": "stream",
     "name": "stdout",
     "text": [
      "x is True\n",
      "<class 'bool'>\n"
     ]
    }
   ],
   "metadata": {}
  },
  {
   "cell_type": "code",
   "execution_count": 64,
   "source": [
    "x = None\r\n",
    "print('x is {}'.format(x))\r\n",
    "print(type(x))\r\n",
    "\r\n",
    "if x:\r\n",
    "    print(\"True\")\r\n",
    "else:\r\n",
    "    print(\"False\")"
   ],
   "outputs": [
    {
     "output_type": "stream",
     "name": "stdout",
     "text": [
      "x is None\n",
      "<class 'NoneType'>\n",
      "False\n"
     ]
    }
   ],
   "metadata": {}
  },
  {
   "cell_type": "code",
   "execution_count": 68,
   "source": [
    "x = ''\r\n",
    "print('x is {}'.format(x))\r\n",
    "print(type(x))\r\n",
    "\r\n",
    "if x:\r\n",
    "    print(\"True\")\r\n",
    "else:\r\n",
    "    print(\"False\")"
   ],
   "outputs": [
    {
     "output_type": "stream",
     "name": "stdout",
     "text": [
      "x is \n",
      "<class 'str'>\n",
      "False\n"
     ]
    }
   ],
   "metadata": {}
  },
  {
   "cell_type": "code",
   "execution_count": 70,
   "source": [
    "x = [ 1, 2, 3, 4, 5]\r\n",
    "\r\n",
    "for i in x:\r\n",
    "    print('i is {}'.format(i))\r\n"
   ],
   "outputs": [
    {
     "output_type": "stream",
     "name": "stdout",
     "text": [
      "i is 1\n",
      "i is 2\n",
      "i is 3\n",
      "i is 4\n",
      "i is 5\n"
     ]
    }
   ],
   "metadata": {}
  },
  {
   "cell_type": "code",
   "execution_count": 71,
   "source": [
    "x = [ 1, 2, 3, 4, 5]\r\n",
    "x[4] = 42\r\n",
    "for i in x:\r\n",
    "    print('i is {}'.format(i))"
   ],
   "outputs": [
    {
     "output_type": "stream",
     "name": "stdout",
     "text": [
      "i is 1\n",
      "i is 2\n",
      "i is 3\n",
      "i is 4\n",
      "i is 42\n"
     ]
    }
   ],
   "metadata": {}
  },
  {
   "cell_type": "code",
   "execution_count": 73,
   "source": [
    "x = ( 1, 2, 3, 4, 5 )\r\n",
    "# x[4] = 42\r\n",
    "for i in x:\r\n",
    "    print('i is {}'.format(i))"
   ],
   "outputs": [
    {
     "output_type": "stream",
     "name": "stdout",
     "text": [
      "i is 1\n",
      "i is 2\n",
      "i is 3\n",
      "i is 4\n",
      "i is 5\n"
     ]
    }
   ],
   "metadata": {}
  },
  {
   "cell_type": "code",
   "execution_count": 74,
   "source": [
    "x = range(10)\r\n",
    "\r\n",
    "for i in x:\r\n",
    "    print('i is {}'.format(i))"
   ],
   "outputs": [
    {
     "output_type": "stream",
     "name": "stdout",
     "text": [
      "i is 0\n",
      "i is 1\n",
      "i is 2\n",
      "i is 3\n",
      "i is 4\n",
      "i is 5\n",
      "i is 6\n",
      "i is 7\n",
      "i is 8\n",
      "i is 9\n"
     ]
    }
   ],
   "metadata": {}
  },
  {
   "cell_type": "code",
   "execution_count": 75,
   "source": [
    "x = range(5,10)\r\n",
    "\r\n",
    "for i in x:\r\n",
    "    print('i is {}'.format(i))"
   ],
   "outputs": [
    {
     "output_type": "stream",
     "name": "stdout",
     "text": [
      "i is 5\n",
      "i is 6\n",
      "i is 7\n",
      "i is 8\n",
      "i is 9\n"
     ]
    }
   ],
   "metadata": {}
  },
  {
   "cell_type": "code",
   "execution_count": 76,
   "source": [
    "x = range(5, 50, 10)\r\n",
    "\r\n",
    "for i in x:\r\n",
    "    print('i is {}'.format(i))"
   ],
   "outputs": [
    {
     "output_type": "stream",
     "name": "stdout",
     "text": [
      "i is 5\n",
      "i is 15\n",
      "i is 25\n",
      "i is 35\n",
      "i is 45\n"
     ]
    }
   ],
   "metadata": {}
  },
  {
   "cell_type": "code",
   "execution_count": 77,
   "source": [
    "x = list(range(5))\r\n",
    "x[4] = 42\r\n",
    "for i in x:\r\n",
    "    print('i is {}'.format(i))"
   ],
   "outputs": [
    {
     "output_type": "stream",
     "name": "stdout",
     "text": [
      "i is 0\n",
      "i is 1\n",
      "i is 2\n",
      "i is 3\n",
      "i is 42\n"
     ]
    }
   ],
   "metadata": {}
  },
  {
   "cell_type": "code",
   "execution_count": 79,
   "source": [
    "x = { 'one': 1, 'two': 2, 'three': 3, 'four': 4, 'five': 5 }\r\n",
    "x['three'] = 42\r\n",
    "for k, v in x.items():\r\n",
    "    print('k: {}, v: {}'.format(k,v))"
   ],
   "outputs": [
    {
     "output_type": "stream",
     "name": "stdout",
     "text": [
      "k: one, v: 1\n",
      "k: two, v: 2\n",
      "k: three, v: 42\n",
      "k: four, v: 4\n",
      "k: five, v: 5\n"
     ]
    }
   ],
   "metadata": {}
  },
  {
   "cell_type": "code",
   "execution_count": 81,
   "source": [
    "x = ( 1, 2, 3, 4, 5 )\r\n",
    "\r\n",
    "print('x is {}'.format(x))\r\n",
    "print(type(x))"
   ],
   "outputs": [
    {
     "output_type": "stream",
     "name": "stdout",
     "text": [
      "x is (1, 2, 3, 4, 5)\n",
      "<class 'tuple'>\n"
     ]
    }
   ],
   "metadata": {}
  },
  {
   "cell_type": "code",
   "execution_count": 83,
   "source": [
    "x = ( 1, 'two', 3.0, [4,'four'], 5 )\r\n",
    "\r\n",
    "# for i in x:\r\n",
    "print('x is {}'.format(x))\r\n",
    "print(type(x))\r\n",
    "print(type(x[1]))"
   ],
   "outputs": [
    {
     "output_type": "stream",
     "name": "stdout",
     "text": [
      "x is (1, 'two', 3.0, [4, 'four'], 5)\n",
      "<class 'tuple'>\n",
      "<class 'str'>\n"
     ]
    }
   ],
   "metadata": {}
  },
  {
   "cell_type": "code",
   "execution_count": 86,
   "source": [
    "x = ( 1, 'two', 3.0, [4,'four'], 5 )\r\n",
    "y = ( 1, 'two', 3.0, [4,'four'], 5 )\r\n",
    "# for i in x:\r\n",
    "print('x is {}'.format(x))\r\n",
    "print(type(x))\r\n",
    "print(id(x[0]))\r\n",
    "print(id(y[0]))\r\n",
    "\r\n",
    "if x[0] is y[0]:\r\n",
    "    print(\"yep\")\r\n",
    "else:\r\n",
    "    print(\"nope\")\r\n"
   ],
   "outputs": [
    {
     "output_type": "stream",
     "name": "stdout",
     "text": [
      "x is (1, 'two', 3.0, [4, 'four'], 5)\n",
      "<class 'tuple'>\n",
      "2530149624112\n",
      "2530149624112\n",
      "yep\n"
     ]
    }
   ],
   "metadata": {}
  },
  {
   "cell_type": "code",
   "execution_count": 97,
   "source": [
    "x = ( 1, 'two', 3.0, [4,'four'], 5 )\r\n",
    "y = [ 1, 2, 3, 4, 5 ]\r\n",
    "# for i in x:\r\n",
    "print('x is {}'.format(x))\r\n",
    "print(type(x))\r\n",
    "print(id(x[0]))\r\n",
    "print(id(y[0]))\r\n",
    "\r\n",
    "if isinstance(y, list):\r\n",
    "    print(\"list\")\r\n",
    "elif isinstance(x, tuple):\r\n",
    "    print(\"tuple\")\r\n",
    "else:\r\n",
    "    print(\"nope\")"
   ],
   "outputs": [
    {
     "output_type": "stream",
     "name": "stdout",
     "text": [
      "x is (1, 'two', 3.0, [4, 'four'], 5)\n",
      "<class 'tuple'>\n",
      "2530149624112\n",
      "2530149624112\n",
      "list\n"
     ]
    }
   ],
   "metadata": {}
  },
  {
   "cell_type": "code",
   "execution_count": 98,
   "source": [
    "secret = 'swordfish'\r\n",
    "pw = ''\r\n",
    "auth = False\r\n",
    "count = 0\r\n",
    "max_attempt = 5\r\n",
    "\r\n",
    "while pw != secret:\r\n",
    "    count += 1\r\n",
    "    if count > max_attempt: break\r\n",
    "    if count == 3: continue\r\n",
    "    pw = input(f\"{count}: What's the secret word?\")\r\n",
    "else:\r\n",
    "    auth = True\r\n",
    "\r\n",
    "print(\"Authorized\" if auth else \"Calling the FBI ...\")\r\n"
   ],
   "outputs": [
    {
     "output_type": "stream",
     "name": "stdout",
     "text": [
      "Calling the FBI ...\n"
     ]
    }
   ],
   "metadata": {}
  },
  {
   "cell_type": "code",
   "execution_count": null,
   "source": [
    "def main():\r\n",
    "    kitten()\r\n",
    "\r\n",
    "def kitten():\r\n",
    "    print('Meow')\r\n",
    "\r\n",
    "if __name__ == '__main__': main()"
   ],
   "outputs": [],
   "metadata": {}
  },
  {
   "cell_type": "code",
   "execution_count": 99,
   "source": [
    "re.findall(\"ab*\",\"asdfsasd\")"
   ],
   "outputs": [
    {
     "output_type": "error",
     "ename": "NameError",
     "evalue": "name 're' is not defined",
     "traceback": [
      "\u001b[1;31m---------------------------------------------------------------------------\u001b[0m",
      "\u001b[1;31mNameError\u001b[0m                                 Traceback (most recent call last)",
      "\u001b[1;32m<ipython-input-99-3345b030c0d3>\u001b[0m in \u001b[0;36m<module>\u001b[1;34m\u001b[0m\n\u001b[1;32m----> 1\u001b[1;33m \u001b[0mre\u001b[0m\u001b[1;33m.\u001b[0m\u001b[0mfindall\u001b[0m\u001b[1;33m(\u001b[0m\u001b[1;34m\"ab*\"\u001b[0m\u001b[1;33m,\u001b[0m\u001b[1;34m\"asdfsasd\"\u001b[0m\u001b[1;33m)\u001b[0m\u001b[1;33m\u001b[0m\u001b[1;33m\u001b[0m\u001b[0m\n\u001b[0m",
      "\u001b[1;31mNameError\u001b[0m: name 're' is not defined"
     ]
    }
   ],
   "metadata": {}
  },
  {
   "cell_type": "code",
   "execution_count": 101,
   "source": [
    "re.findall(\"ab+\", \"absdfsabbbsd\")"
   ],
   "outputs": [
    {
     "output_type": "error",
     "ename": "NameError",
     "evalue": "name 're' is not defined",
     "traceback": [
      "\u001b[1;31m---------------------------------------------------------------------------\u001b[0m",
      "\u001b[1;31mNameError\u001b[0m                                 Traceback (most recent call last)",
      "\u001b[1;32m<ipython-input-101-80357162ac71>\u001b[0m in \u001b[0;36m<module>\u001b[1;34m\u001b[0m\n\u001b[1;32m----> 1\u001b[1;33m \u001b[0mre\u001b[0m\u001b[1;33m.\u001b[0m\u001b[0mfindall\u001b[0m\u001b[1;33m(\u001b[0m\u001b[1;34m\"ab+\"\u001b[0m\u001b[1;33m,\u001b[0m \u001b[1;34m\"absdfsabbbsd\"\u001b[0m\u001b[1;33m)\u001b[0m\u001b[1;33m\u001b[0m\u001b[1;33m\u001b[0m\u001b[0m\n\u001b[0m",
      "\u001b[1;31mNameError\u001b[0m: name 're' is not defined"
     ]
    }
   ],
   "metadata": {}
  },
  {
   "cell_type": "markdown",
   "source": [],
   "metadata": {}
  },
  {
   "cell_type": "code",
   "execution_count": null,
   "source": [
    "re.findall(\"ab{3}\",\"abbbsdfsabbsdsa\")"
   ],
   "outputs": [],
   "metadata": {}
  },
  {
   "cell_type": "code",
   "execution_count": null,
   "source": [
    "re.findall(\"abbb|abb\",\"abbbbsdfsabbsdaabb\")"
   ],
   "outputs": [],
   "metadata": {}
  },
  {
   "cell_type": "code",
   "execution_count": null,
   "source": [
    "re.findall(\"([a-z]+_)*[a-z]+\", \"abbbbb_sdfsabbbsdd\")"
   ],
   "outputs": [],
   "metadata": {}
  },
  {
   "cell_type": "code",
   "execution_count": null,
   "source": [
    "re.findall(\"^[a-z]+_[a-z]+$\", \"abbbbb_sdfsabbbsdd\")"
   ],
   "outputs": [],
   "metadata": {}
  },
  {
   "cell_type": "code",
   "execution_count": null,
   "source": [
    "re.findall(\"\\w+\", \"abbbbb_sdfsabbbsdd\")"
   ],
   "outputs": [],
   "metadata": {}
  },
  {
   "cell_type": "code",
   "execution_count": null,
   "source": [
    "re.finall(\"([a-z]+_){2}\\+\", \"abbbbb_sdfsabbbsdd\")"
   ],
   "outputs": [],
   "metadata": {}
  },
  {
   "cell_type": "code",
   "execution_count": null,
   "source": [
    "re.finall(\"([a-z]_){2}\\+\", \"abbbbb_sdfsabbbsdd\")"
   ],
   "outputs": [],
   "metadata": {}
  },
  {
   "cell_type": "code",
   "execution_count": null,
   "source": [
    "re.finall(\"([a-z]{2}\", \"abbbbb_sdfsabbbsdd\")"
   ],
   "outputs": [],
   "metadata": {}
  },
  {
   "cell_type": "code",
   "execution_count": null,
   "source": [
    "re.finall(\"([a-z]+_){2}\", \"abbbbb_sdfsabbbsdd\")"
   ],
   "outputs": [],
   "metadata": {}
  },
  {
   "cell_type": "code",
   "execution_count": null,
   "source": [],
   "outputs": [],
   "metadata": {}
  },
  {
   "cell_type": "code",
   "execution_count": null,
   "source": [],
   "outputs": [],
   "metadata": {}
  },
  {
   "cell_type": "code",
   "execution_count": null,
   "source": [],
   "outputs": [],
   "metadata": {}
  },
  {
   "cell_type": "code",
   "execution_count": null,
   "source": [],
   "outputs": [],
   "metadata": {}
  },
  {
   "cell_type": "code",
   "execution_count": null,
   "source": [],
   "outputs": [],
   "metadata": {}
  },
  {
   "cell_type": "code",
   "execution_count": null,
   "source": [],
   "outputs": [],
   "metadata": {}
  },
  {
   "cell_type": "code",
   "execution_count": null,
   "source": [],
   "outputs": [],
   "metadata": {}
  },
  {
   "cell_type": "code",
   "execution_count": 1,
   "source": [
    "print(\"{0: >10}\".format(500))"
   ],
   "outputs": [
    {
     "output_type": "stream",
     "name": "stdout",
     "text": [
      "       500\n"
     ]
    }
   ],
   "metadata": {}
  },
  {
   "cell_type": "code",
   "execution_count": 2,
   "source": [
    "print(\"{0: >+10}\".format(500))"
   ],
   "outputs": [
    {
     "output_type": "stream",
     "name": "stdout",
     "text": [
      "      +500\n"
     ]
    }
   ],
   "metadata": {}
  },
  {
   "cell_type": "code",
   "execution_count": 3,
   "source": [
    "print(\"{0: >+10}\".format(-500))"
   ],
   "outputs": [
    {
     "output_type": "stream",
     "name": "stdout",
     "text": [
      "      -500\n"
     ]
    }
   ],
   "metadata": {}
  },
  {
   "cell_type": "code",
   "execution_count": 4,
   "source": [
    "print(\"{0:_<+10}\".format(500))"
   ],
   "outputs": [
    {
     "output_type": "stream",
     "name": "stdout",
     "text": [
      "+500______\n"
     ]
    }
   ],
   "metadata": {}
  },
  {
   "cell_type": "code",
   "execution_count": 5,
   "source": [
    "print(\"{0:_<10}\".format(500))"
   ],
   "outputs": [
    {
     "output_type": "stream",
     "name": "stdout",
     "text": [
      "500_______\n"
     ]
    }
   ],
   "metadata": {}
  },
  {
   "cell_type": "code",
   "execution_count": 12,
   "source": [
    "print(\"{0:,}\".format(5000000000))"
   ],
   "outputs": [
    {
     "output_type": "stream",
     "name": "stdout",
     "text": [
      "5,000,000,000\n"
     ]
    }
   ],
   "metadata": {}
  },
  {
   "cell_type": "code",
   "execution_count": 9,
   "source": [
    "print(\"{0:+,}\".format(5000000000))"
   ],
   "outputs": [
    {
     "output_type": "stream",
     "name": "stdout",
     "text": [
      "+5,000,000,000\n"
     ]
    }
   ],
   "metadata": {}
  },
  {
   "cell_type": "code",
   "execution_count": 13,
   "source": [
    "print(\"{0:^<+30,}\".format(1000000000))"
   ],
   "outputs": [
    {
     "output_type": "stream",
     "name": "stdout",
     "text": [
      "+1,000,000,000^^^^^^^^^^^^^^^^\n"
     ]
    }
   ],
   "metadata": {}
  },
  {
   "cell_type": "code",
   "execution_count": 15,
   "source": [
    "print(\"{0:f}\".format(5/3))"
   ],
   "outputs": [
    {
     "output_type": "stream",
     "name": "stdout",
     "text": [
      "1.666667\n"
     ]
    }
   ],
   "metadata": {}
  },
  {
   "cell_type": "code",
   "execution_count": 16,
   "source": [
    "print(\"{0:.2f}\".format(5/3))"
   ],
   "outputs": [
    {
     "output_type": "stream",
     "name": "stdout",
     "text": [
      "1.67\n"
     ]
    }
   ],
   "metadata": {}
  },
  {
   "cell_type": "code",
   "execution_count": 18,
   "source": [
    "def profile(name, age, *language):\r\n",
    "    print(\"이름: {0}\\t나이:{1}\\t\".format(name, age), end=\"\")\r\n",
    "    for lang in language:\r\n",
    "        print(lang, end=\"\")\r\n",
    "    print()\r\n",
    "\r\n",
    "    # print(lang1, lang2, lang3, lang4, lang5)\r\n",
    "\r\n",
    "\r\n",
    "profile(\"유재석\", 20, \"python\",\"java\",\"c\",\"c++\",\"c#\")\r\n",
    "profile(\"김태희\",38,\"swift\",\"kotlan\",\"\",\"\",\"\")"
   ],
   "outputs": [
    {
     "output_type": "stream",
     "name": "stdout",
     "text": [
      "이름: 유재석\t나이:20\tpythonjavacc++c#\n",
      "이름: 김태희\t나이:38\tswiftkotlan\n"
     ]
    }
   ],
   "metadata": {}
  },
  {
   "cell_type": "code",
   "execution_count": 24,
   "source": [
    "def open_account():\r\n",
    "    print(\"새로운 계좌 생성\")\r\n",
    "\r\n",
    "def deposit(balance, money):\r\n",
    "    print(\"입금 완료. 잔액 {0}\".format(balance + money))\r\n",
    "    return balance+money\r\n",
    "    # return deposit\r\n",
    "\r\n",
    "def withdraw(balance, money):\r\n",
    "    if balance >= money:\r\n",
    "        print(\"출금 완료. 잔액 {0}\".format(balance - money))\r\n",
    "        return balance - money\r\n",
    "    else:\r\n",
    "        print(\"출금 미완료. 잔액{0}\".format(balance))\r\n",
    "        return balance\r\n",
    "\r\n",
    "def withdraw_night(balance, money):\r\n",
    "    commission = 100\r\n",
    "    return commission, balance - money - commission\r\n",
    "\r\n",
    "balance = 0\r\n",
    "balance = deposit(balance, 1000)\r\n",
    "print(balance)\r\n",
    "\r\n",
    "# balance = withdraw(balance, 500)\r\n",
    "# print(balance)\r\n",
    "\r\n",
    "commission, balance = withdraw_night(balance, 500)\r\n",
    "print(\"수수료 {1}. 잔액 {0}\".format(balance, commission))\r\n",
    "\r\n"
   ],
   "outputs": [
    {
     "output_type": "stream",
     "name": "stdout",
     "text": [
      "입금 완료. 잔액 1000\n",
      "1000\n",
      "수수료 100. 잔액 400\n"
     ]
    }
   ],
   "metadata": {}
  },
  {
   "cell_type": "code",
   "execution_count": 34,
   "source": [
    "gun = 10\r\n",
    "soldiers = 2\r\n",
    "def checkpoint(soldiers):\r\n",
    "    global gun # 전역공간에 gun 사용\r\n",
    "    gun = gun - soldiers\r\n",
    "    print(\"[함수 내] 남은 총: {0}\".format(gun))\r\n",
    "\r\n",
    "def checkpoint_ret(gun, soldiers):\r\n",
    "    gun = gun - soldiers\r\n",
    "    print(\"[함수 내] 남은 총: {0}\".format(gun))\r\n",
    "    return gun\r\n",
    "\r\n",
    "print(\"전체 총: {0}\".format(gun))\r\n",
    "# checkpoint(2)\r\n",
    "# gun = checkpoint_ret(gun, 2)\r\n",
    "checkpoint_ret(gun, 2)\r\n",
    "\r\n",
    "print(\"남은 총: {0}, 경계 군인: {1}\".format(gun, soldiers))"
   ],
   "outputs": [
    {
     "output_type": "stream",
     "name": "stdout",
     "text": [
      "전체 총: 10\n",
      "[함수 내] 남은 총: 8\n",
      "남은 총: 10, 경계 군인: 2\n"
     ]
    }
   ],
   "metadata": {}
  },
  {
   "cell_type": "code",
   "execution_count": 42,
   "source": [
    "def std_weight(height, gender):\r\n",
    "    if gender == \"male\":\r\n",
    "        return height * height * 22\r\n",
    "    else:\r\n",
    "        return height * height * 20\r\n",
    "\r\n",
    "height = 168\r\n",
    "gender = \"female\"\r\n",
    "weight = round(std_weight(height/100, gender), 2)\r\n",
    "print(\" The height {0} of gender {1} will have standard weight {2}kg.\".format(height, gender, weight))"
   ],
   "outputs": [
    {
     "output_type": "stream",
     "name": "stdout",
     "text": [
      " The height 168 of gender female will have standard weight 56.45kg.\n"
     ]
    }
   ],
   "metadata": {}
  },
  {
   "cell_type": "code",
   "execution_count": 44,
   "source": [
    "scores = {\"수학\": 0, \"영어\": 50, \"코딩\": 100}\r\n",
    "for subject, score in scores.items():\r\n",
    "    print(subject.ljust(8), str(score).rjust(4)) "
   ],
   "outputs": [
    {
     "output_type": "stream",
     "name": "stdout",
     "text": [
      "수학          0\n",
      "영어         50\n",
      "코딩        100\n"
     ]
    }
   ],
   "metadata": {}
  },
  {
   "cell_type": "code",
   "execution_count": 45,
   "source": [
    "for num in range(1, 21):\r\n",
    "    print(\"waiting number: \" + str(num).zfill(3))"
   ],
   "outputs": [
    {
     "output_type": "stream",
     "name": "stdout",
     "text": [
      "waiting number: 001\n",
      "waiting number: 002\n",
      "waiting number: 003\n",
      "waiting number: 004\n",
      "waiting number: 005\n",
      "waiting number: 006\n",
      "waiting number: 007\n",
      "waiting number: 008\n",
      "waiting number: 009\n",
      "waiting number: 010\n",
      "waiting number: 011\n",
      "waiting number: 012\n",
      "waiting number: 013\n",
      "waiting number: 014\n",
      "waiting number: 015\n",
      "waiting number: 016\n",
      "waiting number: 017\n",
      "waiting number: 018\n",
      "waiting number: 019\n",
      "waiting number: 020\n"
     ]
    }
   ],
   "metadata": {}
  },
  {
   "cell_type": "code",
   "execution_count": 2,
   "source": [
    "print(\"{0: > 10}\".format(500))"
   ],
   "outputs": [
    {
     "output_type": "stream",
     "name": "stdout",
     "text": [
      "       500\n"
     ]
    }
   ],
   "metadata": {}
  },
  {
   "cell_type": "code",
   "execution_count": 5,
   "source": [
    "print(\"{0:.2f}\".format(.12345))"
   ],
   "outputs": [
    {
     "output_type": "stream",
     "name": "stdout",
     "text": [
      "0.12\n"
     ]
    }
   ],
   "metadata": {}
  }
 ],
 "metadata": {
  "orig_nbformat": 4,
  "language_info": {
   "name": "python",
   "version": "3.9.2",
   "mimetype": "text/x-python",
   "codemirror_mode": {
    "name": "ipython",
    "version": 3
   },
   "pygments_lexer": "ipython3",
   "nbconvert_exporter": "python",
   "file_extension": ".py"
  },
  "kernelspec": {
   "name": "python3",
   "display_name": "Python 3.9.2 64-bit (system)"
  },
  "interpreter": {
   "hash": "195829679893df85fb9f372eb0bf7189022710e006ac2d6c131134b6390bb137"
  }
 },
 "nbformat": 4,
 "nbformat_minor": 2
}