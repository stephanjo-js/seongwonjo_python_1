{
 "cells": [
  {
   "cell_type": "code",
   "execution_count": null,
   "source": [
    "pattern_for_name = re.compile(r'<span>(.*)</span></a>')\r\n",
    "name = re.findall(pattern_for_name, yelp_html)[2:12] "
   ],
   "outputs": [],
   "metadata": {}
  },
  {
   "cell_type": "code",
   "execution_count": null,
   "source": [
    "name = re.findall(r'\"><span>([\\w\\s’-]+\\&?a?m?p?;?\\s?[\\w\\s’-]+?)</span></a>', yelp_html)"
   ],
   "outputs": [],
   "metadata": {}
  },
  {
   "cell_type": "code",
   "execution_count": null,
   "source": [
    " import re\r\n",
    "# %%\r\n",
    "def parseRanking(html):\r\n",
    "    return  re.match(r'''\r\n",
    "    ^\r\n",
    "    [\\S\\s]*\r\n",
    "    <a[\\S\\s]*class\\=\"biz-name\\s[\\S\\s]*\"><span>(?P<title>.*)</span>[\\S\\s]*</a>\r\n",
    "    [\\S\\s]*      \r\n",
    "    <div\\sclass\\=\"i-stars\\s i-stars--regular-.*\"\\stitle\\=\"(?P<rating>.*)\\sstar\\srating\">[\\S\\s]*</div>\r\n",
    "    [\\S\\s]*\r\n",
    "    <span\\s+class\\=\"review-count\\srating-qualifier\">[\\s\\t\\n]*(?P<review>.*)\\sreviews[\\s\\t\\n]*</span>\r\n",
    "    [\\S\\s]*       \r\n",
    "    <span\\s+class\\=\"business-attribute\\sprice-range\">(?P<price>.*)</span>\r\n",
    "    [\\S\\s]*        \r\n",
    "    $\r\n",
    "    ''', html, re.VERBOSE)\r\n",
    "# %%\r\n",
    "def getAllRankings(html):\r\n",
    "    li_start = html.find('<li class=\"regular-search-result\">')\r\n",
    "    matches = []\r\n",
    "    while li_start > 0:\r\n",
    "        rank_start = html.find('>', li_start) + 1\r\n",
    "        rank_end = html.find('</li>', li_start)\r\n",
    "        rank_html = html[rank_start:rank_end]\r\n",
    "        match = parseRanking(rank_html)\r\n",
    "        if match != None:\r\n",
    "            matches.append({'numrevs': int(match['review']), "
   ],
   "outputs": [],
   "metadata": {}
  },
  {
   "cell_type": "code",
   "execution_count": null,
   "source": [],
   "outputs": [],
   "metadata": {}
  },
  {
   "cell_type": "code",
   "execution_count": null,
   "source": [],
   "outputs": [],
   "metadata": {}
  },
  {
   "cell_type": "code",
   "execution_count": null,
   "source": [],
   "outputs": [],
   "metadata": {}
  },
  {
   "cell_type": "code",
   "execution_count": null,
   "source": [],
   "outputs": [],
   "metadata": {}
  },
  {
   "cell_type": "code",
   "execution_count": null,
   "source": [],
   "outputs": [],
   "metadata": {}
  },
  {
   "cell_type": "code",
   "execution_count": 1,
   "source": [
    "score_file = open(\"score.txt\", \"w\", encoding=\"utf8\")\r\n",
    "print(\"math: 0\", file=score_file)\r\n",
    "print(\"english: 50\", file=score_file)\r\n",
    "score_file.close()"
   ],
   "outputs": [],
   "metadata": {}
  },
  {
   "cell_type": "code",
   "execution_count": 2,
   "source": [
    "score_file=open(\"score.txt\", \"a\", encoding=\"utf8\")\r\n",
    "score_file.write(\"science: 80\")\r\n",
    "score_file.write(\"\\ncoding: 100\")\r\n",
    "score_file.close()"
   ],
   "outputs": [],
   "metadata": {}
  },
  {
   "cell_type": "code",
   "execution_count": 3,
   "source": [
    "score_file=open(\"score.txt\",\"r\",encoding=\"utf8\")\r\n",
    "print(score_file.read())\r\n",
    "score_file.close()"
   ],
   "outputs": [
    {
     "output_type": "stream",
     "name": "stdout",
     "text": [
      "math: 0\n",
      "english: 50\n",
      "science: 80\n",
      "coding: 100\n"
     ]
    }
   ],
   "metadata": {}
  },
  {
   "cell_type": "code",
   "execution_count": 4,
   "source": [
    "score_file=open(\"score.txt\",\"r\",encoding=\"utf8\")\r\n",
    "print(score_file.readline())\r\n",
    "print(score_file.readline())\r\n",
    "print(score_file.readline())\r\n",
    "print(score_file.readline())\r\n",
    "\r\n",
    "score_file.close()"
   ],
   "outputs": [
    {
     "output_type": "stream",
     "name": "stdout",
     "text": [
      "math: 0\n",
      "\n",
      "english: 50\n",
      "\n",
      "science: 80\n",
      "\n",
      "coding: 100\n"
     ]
    }
   ],
   "metadata": {}
  },
  {
   "cell_type": "code",
   "execution_count": 5,
   "source": [
    "score_file=open(\"score.txt\",\"r\",encoding=\"utf8\")\r\n",
    "print(score_file.readline(),end=\"\")\r\n",
    "print(score_file.readline(),end=\"\")\r\n",
    "print(score_file.readline(),end=\"\")\r\n",
    "print(score_file.readline(),end=\"\")\r\n",
    "\r\n",
    "score_file.close()"
   ],
   "outputs": [
    {
     "output_type": "stream",
     "name": "stdout",
     "text": [
      "math: 0\n",
      "english: 50\n",
      "science: 80\n",
      "coding: 100"
     ]
    }
   ],
   "metadata": {}
  },
  {
   "cell_type": "code",
   "execution_count": 9,
   "source": [
    "score_file = open(\"score.txt\",\"r\",encoding=\"utf8\")\r\n",
    "while True:\r\n",
    "    line=score_file.readline()\r\n",
    "    if not line:\r\n",
    "        break\r\n",
    "    print(line,end=\"\")\r\n",
    "\r\n",
    "score_file.close()"
   ],
   "outputs": [
    {
     "output_type": "stream",
     "name": "stdout",
     "text": [
      "math: 0\n",
      "english: 50\n",
      "science: 80\n",
      "coding: 100"
     ]
    }
   ],
   "metadata": {}
  },
  {
   "cell_type": "code",
   "execution_count": 11,
   "source": [
    "score_file = open(\"score.txt\",\"r\",encoding=\"utf8\")\r\n",
    "lines = score_file.readlines()\r\n",
    "for line in lines:\r\n",
    "    print(line, end=\"\")\r\n",
    "\r\n",
    "score_file.close()"
   ],
   "outputs": [
    {
     "output_type": "stream",
     "name": "stdout",
     "text": [
      "math: 0\n",
      "english: 50\n",
      "science: 80\n",
      "coding: 100"
     ]
    }
   ],
   "metadata": {}
  },
  {
   "cell_type": "code",
   "execution_count": 16,
   "source": [
    "import pickle\r\n",
    "profile_file = open(\"profile.pickle\", \"wb\")\r\n",
    "profile= {\"name\": \"joori\", \"age\": 30, \"hobby\": [\"soccer\", \"golf\",'coding']}\r\n",
    "print(profile)\r\n",
    "pickle.dump(profile, profile_file)\r\n",
    "profile_file.close()"
   ],
   "outputs": [
    {
     "output_type": "stream",
     "name": "stdout",
     "text": [
      "{'name': 'joori', 'age': 30, 'hobby': ['soccer', 'golf', 'coding']}\n"
     ]
    }
   ],
   "metadata": {}
  },
  {
   "cell_type": "code",
   "execution_count": 17,
   "source": [
    "import pickle\r\n",
    "profile_file = open(\"profile.pickle\", \"rb\")\r\n",
    "profile = pickle.load(profile_file)\r\n",
    "print(profile)\r\n",
    "profile_file.close()"
   ],
   "outputs": [
    {
     "output_type": "stream",
     "name": "stdout",
     "text": [
      "{'name': 'joori', 'age': 30, 'hobby': ['soccer', 'golf', 'coding']}\n"
     ]
    }
   ],
   "metadata": {}
  },
  {
   "cell_type": "code",
   "execution_count": 18,
   "source": [
    "import pickle\r\n",
    "with open(\"profile.pickle\",\"rb\") as profile_file:\r\n",
    "    print(pickle.load(profile_file))"
   ],
   "outputs": [
    {
     "output_type": "stream",
     "name": "stdout",
     "text": [
      "{'name': 'joori', 'age': 30, 'hobby': ['soccer', 'golf', 'coding']}\n"
     ]
    }
   ],
   "metadata": {}
  },
  {
   "cell_type": "code",
   "execution_count": 21,
   "source": [
    "with open(\"study.txt\", \"w\", encoding=\"utf8\") as study_file:\r\n",
    "    study_file.write(\"I am studying python.\")\r\n",
    "\r\n",
    "with open(\"study.txt\", \"r\", encoding=\"utf8\") as study_file:\r\n",
    "    print(study_file.read())"
   ],
   "outputs": [
    {
     "output_type": "stream",
     "name": "stdout",
     "text": [
      "I am studying python.\n"
     ]
    }
   ],
   "metadata": {}
  },
  {
   "cell_type": "code",
   "execution_count": 24,
   "source": [
    "for i in range(1,51):\r\n",
    "    with open(str(i) + \"week.txt\",\"w\",encoding=\"utf8\") as report_file:\r\n",
    "        report_file.write(\" {0} week report\".format(i))\r\n",
    "        report_file.write(\"\\ndepartment name : \")\r\n",
    "        report_file.write(\"\\nname : \")\r\n",
    "        report_file.write(\"\\nsummary : \")"
   ],
   "outputs": [],
   "metadata": {}
  },
  {
   "cell_type": "code",
   "execution_count": null,
   "source": [
    "def main():\r\n",
    "    f = open('data_text1.txt')\r\n",
    "    for line in f:\r\n",
    "        print(line.rstrip())\r\n",
    "\r\n",
    "if __name__ == '__main__':main()"
   ],
   "outputs": [],
   "metadata": {}
  },
  {
   "cell_type": "code",
   "execution_count": 1,
   "source": [
    "def main():\r\n",
    "    f = open('data_text1.txt','r')\r\n",
    "    for line in f:\r\n",
    "        print(line.rstrip())\r\n",
    "\r\n",
    "if __name__ == '__main__':main()"
   ],
   "outputs": [
    {
     "output_type": "stream",
     "name": "stdout",
     "text": [
      "Class\tName\tAge\tScore\tResult\n",
      "A\ts1\t20\t\tPass\n",
      "B\ts2\t19\t95.0\tPass\n",
      "C\ts3\t21\t\tFail\n",
      "A\ts4\t22\t80.0\tPass\n",
      "B\ts5\t24\t70.0\tFail\n",
      "C\ts6\t25\t85.0\tPass\n",
      "C\ts7\t26\t90.0\tPass\n"
     ]
    }
   ],
   "metadata": {}
  },
  {
   "cell_type": "code",
   "execution_count": 5,
   "source": [
    "def main():\r\n",
    "    infile = open('data_text1.txt','rt')\r\n",
    "    outfile = open('data_text1-copy.txt','wt')\r\n",
    "    for line in infile:\r\n",
    "        # print(line.rstrip(), file=outfile)\r\n",
    "        outfile.writelines(line)\r\n",
    "        print('.', end='')\r\n",
    "    outfile.close()\r\n",
    "    print('\\ndone')\r\n",
    "\r\n",
    "if __name__ == '__main__':main()"
   ],
   "outputs": [
    {
     "output_type": "stream",
     "name": "stdout",
     "text": [
      "........\n",
      "done\n"
     ]
    }
   ],
   "metadata": {}
  },
  {
   "cell_type": "code",
   "execution_count": null,
   "source": [
    "def main():\r\n",
    "    infile = open('data_text1.txt','rt')\r\n",
    "    outfile = open('data_text1-copy.txt','wt')\r\n",
    "    for line in infile:\r\n",
    "        # print(line.rstrip(), file=outfile)\r\n",
    "        outfile.writelines(line)\r\n",
    "        print('.', end='')\r\n",
    "    outfile.close()\r\n",
    "    print('\\ndone')\r\n",
    "\r\n",
    "if __name__ == '__main__':main()"
   ],
   "outputs": [],
   "metadata": {}
  },
  {
   "cell_type": "code",
   "execution_count": 6,
   "source": [
    "def main():\r\n",
    "    infile = open('Man1.jpg','rb')\r\n",
    "    outfile = open('Man1-copy.jpg','wb')\r\n",
    "    while True:\r\n",
    "        buf = infile.read(10240)\r\n",
    "        if buf:\r\n",
    "            outfile.write(buf)\r\n",
    "            print('.', end='')\r\n",
    "        else:\r\n",
    "            break\r\n",
    "\r\n",
    "    outfile.close()\r\n",
    "    print('\\ndone')\r\n",
    "\r\n",
    "if __name__ == '__main__':main()"
   ],
   "outputs": [
    {
     "output_type": "stream",
     "name": "stdout",
     "text": [
      "..........\n",
      "done\n"
     ]
    }
   ],
   "metadata": {}
  },
  {
   "cell_type": "code",
   "execution_count": 9,
   "source": [
    "import sys\r\n",
    "\r\n",
    "def main():\r\n",
    "    v = sys.version_info\r\n",
    "    print('python version {}.{}.{}'.format(*v))\r\n",
    "\r\n",
    "if __name__ == '__main__':main()"
   ],
   "outputs": [
    {
     "output_type": "stream",
     "name": "stdout",
     "text": [
      "python version 3.9.2\n"
     ]
    }
   ],
   "metadata": {}
  },
  {
   "cell_type": "code",
   "execution_count": null,
   "source": [
    "if __name__ == '__main__':main()"
   ],
   "outputs": [],
   "metadata": {}
  },
  {
   "cell_type": "code",
   "execution_count": null,
   "source": [],
   "outputs": [],
   "metadata": {}
  },
  {
   "cell_type": "code",
   "execution_count": null,
   "source": [],
   "outputs": [],
   "metadata": {}
  },
  {
   "cell_type": "code",
   "execution_count": null,
   "source": [],
   "outputs": [],
   "metadata": {}
  }
 ],
 "metadata": {
  "orig_nbformat": 4,
  "language_info": {
   "name": "python",
   "version": "3.9.2",
   "mimetype": "text/x-python",
   "codemirror_mode": {
    "name": "ipython",
    "version": 3
   },
   "pygments_lexer": "ipython3",
   "nbconvert_exporter": "python",
   "file_extension": ".py"
  },
  "kernelspec": {
   "name": "python3",
   "display_name": "Python 3.9.2 64-bit (system)"
  },
  "interpreter": {
   "hash": "195829679893df85fb9f372eb0bf7189022710e006ac2d6c131134b6390bb137"
  }
 },
 "nbformat": 4,
 "nbformat_minor": 2
}