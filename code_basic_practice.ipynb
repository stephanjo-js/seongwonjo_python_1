{
 "cells": [
  {
   "cell_type": "code",
   "execution_count": 1,
   "source": [
    "def get_even(numbers):\r\n",
    "     even_nums = [num for num in numbers if not num % 2]\r\n",
    "     return even_nums\r\n",
    "\r\n",
    "get_even([1, 2, 3, 4, 5, 6])\r\n",
    "# [2, 4, 6]"
   ],
   "outputs": [
    {
     "output_type": "execute_result",
     "data": {
      "text/plain": [
       "[2, 4, 6]"
      ]
     },
     "metadata": {},
     "execution_count": 1
    }
   ],
   "metadata": {}
  },
  {
   "cell_type": "code",
   "execution_count": 4,
   "source": [
    "def get_even(numbers):\r\n",
    "     even_nums = [num for num in numbers if not num % 2]\r\n",
    "     return even_nums\r\n",
    "\r\n",
    "get_even([1, 2, 3, 4, 5, 6])"
   ],
   "outputs": [
    {
     "output_type": "execute_result",
     "data": {
      "text/plain": [
       "[2, 4, 6]"
      ]
     },
     "metadata": {},
     "execution_count": 4
    }
   ],
   "metadata": {}
  },
  {
   "cell_type": "code",
   "execution_count": 2,
   "source": [
    "def get_even(numbers):\r\n",
    "    return [num for num in numbers if not num % 2]\r\n",
    "\r\n",
    "\r\n",
    "get_even([1, 2, 3, 4, 5, 6])"
   ],
   "outputs": [
    {
     "output_type": "execute_result",
     "data": {
      "text/plain": [
       "[2, 4, 6]"
      ]
     },
     "metadata": {},
     "execution_count": 2
    }
   ],
   "metadata": {}
  },
  {
   "cell_type": "code",
   "execution_count": 5,
   "source": [
    "def mean(sample):\r\n",
    "    return sum(sample) / len(sample)\r\n",
    "\r\n",
    "\r\n",
    "mean([1, 2, 3, 4])"
   ],
   "outputs": [
    {
     "output_type": "execute_result",
     "data": {
      "text/plain": [
       "2.5"
      ]
     },
     "metadata": {},
     "execution_count": 5
    }
   ],
   "metadata": {}
  },
  {
   "cell_type": "code",
   "execution_count": 14,
   "source": [
    "def add_one(x):\r\n",
    "    # No return statement at all\r\n",
    "    result = x + 1\r\n",
    "    return result\r\n",
    "\r\n",
    "for i in range(5) :\r\n",
    "    value = add_one(i)\r\n",
    "    value\r\n",
    "\r\n",
    "\r\n",
    "\r\n",
    "print(value)"
   ],
   "outputs": [
    {
     "output_type": "stream",
     "name": "stdout",
     "text": [
      "5\n"
     ]
    }
   ],
   "metadata": {}
  },
  {
   "cell_type": "code",
   "execution_count": 17,
   "source": [
    "variance(data, ddof=0):\r\n",
    "    mean = sum(data) / len(data)\r\n",
    "    return sum((x - mean) ** 2 for x in data) / (len(data) - ddof)\r\n",
    "\r\n",
    "\r\n",
    "variance([3, 4, 7, 5, 6, 2, 9, 4, 1, 3])"
   ],
   "outputs": [
    {
     "output_type": "error",
     "ename": "SyntaxError",
     "evalue": "invalid syntax (<ipython-input-17-4f7cac3b5604>, line 1)",
     "traceback": [
      "\u001b[1;36m  File \u001b[1;32m\"<ipython-input-17-4f7cac3b5604>\"\u001b[1;36m, line \u001b[1;32m1\u001b[0m\n\u001b[1;33m    variance(data, ddof=0):\u001b[0m\n\u001b[1;37m                           ^\u001b[0m\n\u001b[1;31mSyntaxError\u001b[0m\u001b[1;31m:\u001b[0m invalid syntax\n"
     ]
    }
   ],
   "metadata": {}
  },
  {
   "cell_type": "code",
   "execution_count": 18,
   "source": [
    "def variance(data, ddof=0):\r\n",
    "    n = len(data)\r\n",
    "    mean = sum(data) / n\r\n",
    "    total_square_dev = sum((x - mean) ** 2 for x in data)\r\n",
    "    return total_square_dev / (n - ddof)\r\n",
    ".\r\n",
    "\r\n",
    "variance([3, 4, 7, 5, 6, 2, 9, 4, 1, 3])"
   ],
   "outputs": [
    {
     "output_type": "error",
     "ename": "SyntaxError",
     "evalue": "invalid syntax (<ipython-input-18-f51ce0bb9ff4>, line 6)",
     "traceback": [
      "\u001b[1;36m  File \u001b[1;32m\"<ipython-input-18-f51ce0bb9ff4>\"\u001b[1;36m, line \u001b[1;32m6\u001b[0m\n\u001b[1;33m    .\u001b[0m\n\u001b[1;37m    ^\u001b[0m\n\u001b[1;31mSyntaxError\u001b[0m\u001b[1;31m:\u001b[0m invalid syntax\n"
     ]
    }
   ],
   "metadata": {}
  },
  {
   "cell_type": "code",
   "execution_count": 21,
   "source": [
    "counter = 0\r\n",
    "\r\n",
    "def increment():\r\n",
    "    global counter\r\n",
    "    counter += 1\r\n",
    "\r\n",
    "\r\n",
    "increment()\r\n",
    "counter"
   ],
   "outputs": [
    {
     "output_type": "execute_result",
     "data": {
      "text/plain": [
       "1"
      ]
     },
     "metadata": {},
     "execution_count": 21
    }
   ],
   "metadata": {}
  },
  {
   "cell_type": "code",
   "execution_count": 23,
   "source": [
    "counter = 0\r\n",
    "\r\n",
    "def increment(var):\r\n",
    "    return var + 1\r\n",
    "\r\n",
    "increment(counter)\r\n",
    "print(counter)\r\n",
    "\r\n",
    " # Explicitly assign a new value to counter\r\n",
    "counter = increment(counter)\r\n",
    "print(counter)"
   ],
   "outputs": [
    {
     "output_type": "stream",
     "name": "stdout",
     "text": [
      "0\n",
      "1\n"
     ]
    }
   ],
   "metadata": {}
  },
  {
   "cell_type": "code",
   "execution_count": null,
   "source": [
    "def identity(x):\r\n",
    "    return x"
   ],
   "outputs": [],
   "metadata": {}
  },
  {
   "cell_type": "code",
   "execution_count": null,
   "source": [
    "lambda x: x\r\n",
    "\r\n",
    "# In the example above, the expression is composed of:\r\n",
    "\r\n",
    "# The keyword: lambda\r\n",
    "# A bound variable: x\r\n",
    "# A body: x"
   ],
   "outputs": [],
   "metadata": {}
  },
  {
   "cell_type": "code",
   "execution_count": 30,
   "source": [
    "def test_for():\r\n",
    "    # for loop works by calling iter on the target object.\r\n",
    "    l = [1,2,3]\r\n",
    "    # this is magic method that needs to be implemented by any object that supports iteration. iter(l) just calls l.__iter__()\r\n",
    "    iter1 = l.__iter__()\r\n",
    "\r\n",
    "    result = []\r\n",
    "    for x in l:\r\n",
    "        result.append(x)\r\n",
    "        assert [1,2,3] == result\r\n",
    "\r\n",
    "    print(result)\r\n",
    "\r\n",
    "    # result = []\r\n",
    "    # for x in iter1:\r\n",
    "    #     result.append(x)\r\n",
    "    # assert [1,2,3] == result\r\n",
    "    # result\r\n",
    "\r\n",
    "    # result = []\r\n",
    "    # for x in iter1:\r\n",
    "    #     result.append(x)\r\n",
    "    # assert [] == result  #what happened here?\r\n",
    "    # result\r\n",
    "\r\n",
    "    # result = []\r\n",
    "    # for x in l:\r\n",
    "    #     result.append(x)\r\n",
    "    # assert [1,2,3] == result\r\n",
    "    # result"
   ],
   "outputs": [],
   "metadata": {}
  },
  {
   "cell_type": "code",
   "execution_count": 31,
   "source": [
    "def my_map(func, iterable):\r\n",
    "    iter1=iter(iterable)\r\n",
    "    res=[]\r\n",
    "    while True:\r\n",
    "        try:\r\n",
    "            res.append(func(iter1.__next__()))\r\n",
    "        except StopIteration:\r\n",
    "            break\r\n",
    "    return  res\r\n",
    "def double(x):\r\n",
    "    return 2 * x\r\n",
    "\r\n",
    "import string\r\n",
    "\r\n",
    "def test_my_map():\r\n",
    "    assert list(range(0, 20, 2)) == my_map(double, range(10))\r\n",
    "    assert list(string.ascii_uppercase) == my_map(str.upper, string.ascii_lowercase)\r\n",
    "\r\n",
    "    list_iter = iter(range(10))\r\n",
    "    assert list(range(0,20,2)) == my_map(double, list_iter)\r\n",
    "    assert [] == my_map(double, list_iter) #if you did not understand this, go through the lesson again."
   ],
   "outputs": [],
   "metadata": {}
  },
  {
   "cell_type": "code",
   "execution_count": 32,
   "source": [
    "def test_iterator_type():\r\n",
    "    list_iter = iter([\"one\", \"two\", \"three\"])\r\n",
    "    assert \"list_iterator\" == type(list_iter).__name__\r\n",
    "    assert True == hasattr(list_iter, \"__next__\")\r\n",
    "\r\n",
    "    string_iter = iter(\"hello\")\r\n",
    "    assert \"str_iterator\" == type(string_iter).__name__\r\n",
    "    assert True== hasattr(string_iter, \"__next__\")\r\n",
    "\r\n",
    "    tuple_iter = iter((1,2,3))\r\n",
    "    assert \"tuple_iterator\" == type(tuple_iter).__name__\r\n",
    "    assert True == hasattr(tuple_iter, \"__next__\")\r\n",
    "\r\n",
    "def test_int_iterable():\r\n",
    "    try:\r\n",
    "        iter(10)\r\n",
    "    except TypeError:  # replace by appropriate except so this test passes\r\n",
    "        pass\r\n",
    "\r\n",
    "def test_enumerate_iter():\r\n",
    "    list_iter = iter([\"one\", \"two\", \"three\"])\r\n",
    "    try:\r\n",
    "        assert \"one\" == list_iter.__next__()\r\n",
    "        assert \"two\" == list_iter.__next__()\r\n",
    "        assert \"three\" == list_iter.__next__()\r\n",
    "        assert __ == list_iter.__next__() #note what happens when items are finished.\r\n",
    "    except StopIteration:\r\n",
    "        pass"
   ],
   "outputs": [],
   "metadata": {}
  },
  {
   "cell_type": "code",
   "execution_count": 42,
   "source": [
    "#note this function which can convert any iterable into a list.\r\n",
    "def convert_to_list(iterable):\r\n",
    "    seq_iterator = iter(iterable)\r\n",
    "    result = []\r\n",
    "    try:\r\n",
    "        while True:\r\n",
    "            item = seq_iterator.__next__()\r\n",
    "            result.append(item)\r\n",
    "    except StopIteration as se:\r\n",
    "        return result\r\n",
    "\r\n",
    "def test_convert():\r\n",
    "    assert ['h','e','l','l','o'] == convert_to_list(\"hello\")\r\n",
    "    assert [1,2,3,4] == convert_to_list((1,2,3,4))\r\n",
    "    assert [0,1,2,3,4] == convert_to_list(range(5))\r\n",
    "\r\n",
    "\r\n",
    "def test_join():\r\n",
    "    #string.join also works using the iteration protocol!\r\n",
    "    #accepts any iterable\r\n",
    "    assert \"h.e.l.l.o\" == \".\".join(\"hello\")\r\n",
    "    assert \"hello.world\" == \".\".join([\"hello\", \"world\"])\r\n",
    "    assert \"hello.there\" == \".\".join((\"hello\", \"there\"))\r\n",
    "\r\n",
    " \r\n",
    "\r\n",
    "    try:\r\n",
    "        \".\".join([1,2,4]) #does not accept all element types though!\r\n",
    "    except TypeError :\r\n",
    "        assert True"
   ],
   "outputs": [],
   "metadata": {}
  },
  {
   "cell_type": "code",
   "execution_count": 47,
   "source": [
    "def test_join():\r\n",
    "    #string.join also works using the iteration protocol!\r\n",
    "    #accepts any iterable\r\n",
    "    assert \"h.e.l.l.o\" == \".\".join(\"hello\")\r\n",
    "    # assert test_join = \".\".join(\"hello\")\r\n",
    "\r\n",
    "# L = \"Hello\"\r\n",
    "# print(test_join(L))\r\n",
    "\r\n",
    "# return test_join(L)\r\n",
    "\r\n",
    "L\r\n",
    "\r\n",
    "print(\".\".join(\"hello\"))"
   ],
   "outputs": [
    {
     "output_type": "stream",
     "name": "stdout",
     "text": [
      "h.e.l.l.o\n"
     ]
    }
   ],
   "metadata": {}
  },
  {
   "cell_type": "code",
   "execution_count": null,
   "source": [],
   "outputs": [],
   "metadata": {}
  },
  {
   "cell_type": "code",
   "execution_count": null,
   "source": [],
   "outputs": [],
   "metadata": {}
  },
  {
   "cell_type": "code",
   "execution_count": 6,
   "source": [
    "x = ( 1, 2, 3, 4, 5 )\r\n",
    "y = list(reversed(x))\r\n",
    "\r\n",
    "print(x)\r\n",
    "print(y)"
   ],
   "outputs": [
    {
     "output_type": "stream",
     "name": "stdout",
     "text": [
      "(1, 2, 3, 4, 5)\n",
      "[5, 4, 3, 2, 1]\n"
     ]
    }
   ],
   "metadata": {}
  },
  {
   "cell_type": "code",
   "execution_count": 10,
   "source": [
    "x = ( 1, 2, 3, 4, 5 )\r\n",
    "y = reversed(x)\r\n",
    "\r\n",
    "for i in y: print(i, end='', sep=',')\r\n",
    "\r\n",
    "print(x)\r\n",
    "print(y)"
   ],
   "outputs": [
    {
     "output_type": "stream",
     "name": "stdout",
     "text": [
      "54321(1, 2, 3, 4, 5)\n",
      "<reversed object at 0x0000014D21701DF0>\n"
     ]
    }
   ],
   "metadata": {}
  },
  {
   "cell_type": "code",
   "execution_count": 12,
   "source": [
    "x = ( 1, 2, 3, 4, 5 )\r\n",
    "y = ( 6, 7, 8, 9, 10 )\r\n",
    "z = zip(x, y)\r\n",
    "\r\n",
    "for a, b in z: print(f'{a} - {b}')\r\n"
   ],
   "outputs": [
    {
     "output_type": "stream",
     "name": "stdout",
     "text": [
      "1 - 6\n",
      "2 - 7\n",
      "3 - 8\n",
      "4 - 9\n",
      "5 - 10\n"
     ]
    }
   ],
   "metadata": {}
  },
  {
   "cell_type": "code",
   "execution_count": 15,
   "source": [
    "x = ( 'cat', 'dog', 'rabbit', 'raptor' )\r\n",
    "\r\n",
    "\r\n",
    "for i, v in enumerate(x): print(f'{i}: {v}')\r\n"
   ],
   "outputs": [
    {
     "output_type": "stream",
     "name": "stdout",
     "text": [
      "0: cat\n",
      "1: dog\n",
      "2: rabbit\n",
      "3: raptor\n"
     ]
    }
   ],
   "metadata": {}
  },
  {
   "cell_type": "code",
   "execution_count": 16,
   "source": [
    "x = 47\r\n",
    "y = isinstance(x, int)\r\n",
    "\r\n",
    "print(x)\r\n",
    "print(y)"
   ],
   "outputs": [
    {
     "output_type": "stream",
     "name": "stdout",
     "text": [
      "47\n",
      "True\n"
     ]
    }
   ],
   "metadata": {}
  },
  {
   "cell_type": "code",
   "execution_count": 17,
   "source": [
    "x = 47.0\r\n",
    "y = id(x)\r\n",
    "\r\n",
    "print(x)\r\n",
    "print(y)"
   ],
   "outputs": [
    {
     "output_type": "stream",
     "name": "stdout",
     "text": [
      "47.0\n",
      "1430783943856\n"
     ]
    }
   ],
   "metadata": {}
  },
  {
   "cell_type": "code",
   "execution_count": null,
   "source": [],
   "outputs": [],
   "metadata": {}
  },
  {
   "cell_type": "code",
   "execution_count": null,
   "source": [],
   "outputs": [],
   "metadata": {}
  },
  {
   "cell_type": "code",
   "execution_count": null,
   "source": [],
   "outputs": [],
   "metadata": {}
  },
  {
   "cell_type": "code",
   "execution_count": null,
   "source": [],
   "outputs": [],
   "metadata": {}
  },
  {
   "cell_type": "code",
   "execution_count": 1,
   "source": [
    "x = '47'\r\n",
    "y = int(x)\r\n",
    "\r\n",
    "print(f'x is {type(x)}')\r\n",
    "print(f'x is {x}')\r\n",
    "print(f'y is {type(y)}')\r\n",
    "print(f'y is {y}')"
   ],
   "outputs": [
    {
     "output_type": "stream",
     "name": "stdout",
     "text": [
      "x is <class 'str'>\n",
      "x is 47\n",
      "y is <class 'int'>\n",
      "y is 47\n"
     ]
    }
   ],
   "metadata": {}
  },
  {
   "cell_type": "code",
   "execution_count": 2,
   "source": [
    "x = 47\r\n",
    "y = x + 73j\r\n",
    "\r\n",
    "print(f'x is {type(x)}')\r\n",
    "print(f'x is {x}')\r\n",
    "print(f'y is {type(y)}')\r\n",
    "print(f'y is {y}')"
   ],
   "outputs": [
    {
     "output_type": "stream",
     "name": "stdout",
     "text": [
      "x is <class 'int'>\n",
      "x is 47\n",
      "y is <class 'complex'>\n",
      "y is (47+73j)\n"
     ]
    }
   ],
   "metadata": {}
  },
  {
   "cell_type": "code",
   "execution_count": null,
   "source": [],
   "outputs": [],
   "metadata": {}
  },
  {
   "cell_type": "code",
   "execution_count": 1,
   "source": [
    "# step 1:\r\n",
    "Beatles = []\r\n",
    "print(\"Step 1:\", Beatles)\r\n",
    " \r\n",
    "# step 2:\r\n",
    "Beatles.append(\"John Lennon\")\r\n",
    "Beatles.append(\"Paul McCartney\")\r\n",
    "Beatles.append(\"George Harrison\")\r\n",
    "print(\"Step 2:\", Beatles)\r\n",
    " \r\n",
    "# step 3:\r\n",
    "for members in range(2):\r\n",
    "    Beatles.append(input(\"New band member: \"))\r\n",
    "print(\"Step 3:\", Beatles)\r\n",
    " \r\n",
    "# step 4:\r\n",
    "del Beatles[-1]\r\n",
    "del Beatles[-1]\r\n",
    "print(\"Step 4:\", Beatles)\r\n",
    " \r\n",
    "# step 5:\r\n",
    "Beatles.insert(0, \"Ringo Starr\")\r\n",
    "print(\"Step 5:\", Beatles)\r\n",
    "print(\"The Fab:\",len(Beatles))"
   ],
   "outputs": [
    {
     "output_type": "stream",
     "name": "stdout",
     "text": [
      "Step 1: []\n",
      "Step 2: ['John Lennon', 'Paul McCartney', 'George Harrison']\n",
      "Step 3: ['John Lennon', 'Paul McCartney', 'George Harrison', '', '']\n",
      "Step 4: ['John Lennon', 'Paul McCartney', 'George Harrison']\n",
      "Step 5: ['Ringo Starr', 'John Lennon', 'Paul McCartney', 'George Harrison']\n",
      "The Fab: 4\n"
     ]
    }
   ],
   "metadata": {}
  },
  {
   "cell_type": "code",
   "execution_count": 1,
   "source": [
    "print('Hello, World.')"
   ],
   "outputs": [
    {
     "output_type": "stream",
     "name": "stdout",
     "text": [
      "Hello, World.\n"
     ]
    }
   ],
   "metadata": {}
  },
  {
   "cell_type": "code",
   "execution_count": 2,
   "source": [
    "print('Hello, World.'.upper())"
   ],
   "outputs": [
    {
     "output_type": "stream",
     "name": "stdout",
     "text": [
      "HELLO, WORLD.\n"
     ]
    }
   ],
   "metadata": {}
  },
  {
   "cell_type": "code",
   "execution_count": 7,
   "source": [
    "print('Hello, World.'.swapcase())\r\n",
    "print('Hello, World.'.lower())"
   ],
   "outputs": [
    {
     "output_type": "stream",
     "name": "stdout",
     "text": [
      "hELLO, wORLD.\n",
      "hello, world.\n"
     ]
    }
   ],
   "metadata": {}
  },
  {
   "cell_type": "code",
   "execution_count": 10,
   "source": [
    "print('Hello, World. {}'.format(42*7))\r\n",
    "print(\"\"\"\r\n",
    "    Hello, \r\n",
    "    World. \r\n",
    "    {}\"\"\".format(42*7))"
   ],
   "outputs": [
    {
     "output_type": "stream",
     "name": "stdout",
     "text": [
      "Hello, World. 294\n",
      "\n",
      "    Hello, \n",
      "    World. \n",
      "    294\n"
     ]
    }
   ],
   "metadata": {}
  },
  {
   "cell_type": "code",
   "execution_count": 5,
   "source": [
    "s = print('Hello, World. {}'.format(42*7))\r\n",
    "s"
   ],
   "outputs": [
    {
     "output_type": "stream",
     "name": "stdout",
     "text": [
      "Hello, World. 294\n"
     ]
    }
   ],
   "metadata": {}
  },
  {
   "cell_type": "code",
   "execution_count": 6,
   "source": [
    "s ='Hello, World. {}'\r\n",
    "print(s.format(42*7))"
   ],
   "outputs": [
    {
     "output_type": "stream",
     "name": "stdout",
     "text": [
      "Hello, World. 294\n"
     ]
    }
   ],
   "metadata": {}
  },
  {
   "cell_type": "code",
   "execution_count": 12,
   "source": [
    "class MyString(str):\r\n",
    "    def __str__(self):\r\n",
    "        return self[::-1]\r\n",
    "\r\n",
    "s = MyString('Hello, World. {}')\r\n",
    "print(s.format(42*7))"
   ],
   "outputs": [
    {
     "output_type": "stream",
     "name": "stdout",
     "text": [
      "Hello, World. 294\n"
     ]
    }
   ],
   "metadata": {}
  },
  {
   "cell_type": "code",
   "execution_count": 5,
   "source": [
    "class bunny:\r\n",
    "    def __init__(self,n):\r\n",
    "        self._n = n\r\n",
    "    def __repr__(self):\r\n",
    "        return f'the number of bunnies is {self._n} '\r\n",
    "    def __str__(self):\r\n",
    "        return f'the number of bunnies is {self._n}'        \r\n",
    "    \r\n",
    "\r\n",
    "x = bunny(47)\r\n",
    "print(x)\r\n",
    "print(char(128406))"
   ],
   "outputs": [
    {
     "output_type": "stream",
     "name": "stdout",
     "text": [
      "the number of bunnies is 47\n"
     ]
    },
    {
     "output_type": "error",
     "ename": "NameError",
     "evalue": "name 'char' is not defined",
     "traceback": [
      "\u001b[1;31m---------------------------------------------------------------------------\u001b[0m",
      "\u001b[1;31mNameError\u001b[0m                                 Traceback (most recent call last)",
      "\u001b[1;32m<ipython-input-5-8ab22249b1f5>\u001b[0m in \u001b[0;36m<module>\u001b[1;34m\u001b[0m\n\u001b[0;32m     10\u001b[0m \u001b[0mx\u001b[0m \u001b[1;33m=\u001b[0m \u001b[0mbunny\u001b[0m\u001b[1;33m(\u001b[0m\u001b[1;36m47\u001b[0m\u001b[1;33m)\u001b[0m\u001b[1;33m\u001b[0m\u001b[1;33m\u001b[0m\u001b[0m\n\u001b[0;32m     11\u001b[0m \u001b[0mprint\u001b[0m\u001b[1;33m(\u001b[0m\u001b[0mx\u001b[0m\u001b[1;33m)\u001b[0m\u001b[1;33m\u001b[0m\u001b[1;33m\u001b[0m\u001b[0m\n\u001b[1;32m---> 12\u001b[1;33m \u001b[0mprint\u001b[0m\u001b[1;33m(\u001b[0m\u001b[0mchar\u001b[0m\u001b[1;33m(\u001b[0m\u001b[1;36m128406\u001b[0m\u001b[1;33m)\u001b[0m\u001b[1;33m)\u001b[0m\u001b[1;33m\u001b[0m\u001b[1;33m\u001b[0m\u001b[0m\n\u001b[0m",
      "\u001b[1;31mNameError\u001b[0m: name 'char' is not defined"
     ]
    }
   ],
   "metadata": {}
  },
  {
   "cell_type": "code",
   "execution_count": 16,
   "source": [
    "print('Hello, World.'.capitalize())\r\n",
    "print('Hello, World.'.title())\r\n",
    "print('Hello, World. StraBe'.casefold())"
   ],
   "outputs": [
    {
     "output_type": "stream",
     "name": "stdout",
     "text": [
      "Hello, world.\n",
      "Hello, World.\n",
      "hello, world. strabe\n"
     ]
    }
   ],
   "metadata": {}
  },
  {
   "cell_type": "code",
   "execution_count": 18,
   "source": [
    "x = 42\r\n",
    "y = 73\r\n",
    "print('the number is {} {}'.format(x, y))"
   ],
   "outputs": [
    {
     "output_type": "stream",
     "name": "stdout",
     "text": [
      "the number is 42 73\n"
     ]
    }
   ],
   "metadata": {}
  },
  {
   "cell_type": "code",
   "execution_count": 20,
   "source": [
    "x = 42\r\n",
    "y = 73\r\n",
    "print('the number is {yy} {xx}'.format(xx=x*2, yy=y-x))"
   ],
   "outputs": [
    {
     "output_type": "stream",
     "name": "stdout",
     "text": [
      "the number is 31 84\n"
     ]
    }
   ],
   "metadata": {}
  },
  {
   "cell_type": "code",
   "execution_count": 22,
   "source": [
    "x = 42\r\n",
    "y = 73\r\n",
    "print('the number is {0} {1} {0}'.format(x, y))"
   ],
   "outputs": [
    {
     "output_type": "stream",
     "name": "stdout",
     "text": [
      "the number is 42 73 42\n"
     ]
    }
   ],
   "metadata": {}
  },
  {
   "cell_type": "code",
   "execution_count": 29,
   "source": [
    "x = 42\r\n",
    "y = 73\r\n",
    "print('the number is {0:<5} {1:+05}'.format(x, y))"
   ],
   "outputs": [
    {
     "output_type": "stream",
     "name": "stdout",
     "text": [
      "the number is 42    +0073\n"
     ]
    }
   ],
   "metadata": {}
  },
  {
   "cell_type": "code",
   "execution_count": 37,
   "source": [
    "x = 42 * 737 * 1000\r\n",
    "print('the number is {:,}'.format(x).replace(',', '.'))"
   ],
   "outputs": [
    {
     "output_type": "stream",
     "name": "stdout",
     "text": [
      "the number is 30.954.000\n"
     ]
    }
   ],
   "metadata": {}
  },
  {
   "cell_type": "code",
   "execution_count": 43,
   "source": [
    "x = 42 * 737 * 1000\r\n",
    "print('the number is {:5f}'.format(x))"
   ],
   "outputs": [
    {
     "output_type": "stream",
     "name": "stdout",
     "text": [
      "the number is 30954000.000000\n"
     ]
    }
   ],
   "metadata": {}
  },
  {
   "cell_type": "code",
   "execution_count": 44,
   "source": [
    "x = 42 \r\n",
    "print('the number is {:b}'.format(x))"
   ],
   "outputs": [
    {
     "output_type": "stream",
     "name": "stdout",
     "text": [
      "the number is 101010\n"
     ]
    }
   ],
   "metadata": {}
  },
  {
   "cell_type": "code",
   "execution_count": 49,
   "source": [
    "x = 42 \r\n",
    "print(f'the number is {x:3f}')"
   ],
   "outputs": [
    {
     "output_type": "stream",
     "name": "stdout",
     "text": [
      "the number is 42.000000\n"
     ]
    }
   ],
   "metadata": {}
  },
  {
   "cell_type": "code",
   "execution_count": 50,
   "source": [
    "s = 'This is a long string with a bunch of words in it.'\r\n",
    "print(s.split())"
   ],
   "outputs": [
    {
     "output_type": "stream",
     "name": "stdout",
     "text": [
      "['This', 'is', 'a', 'long', 'string', 'with', 'a', 'bunch', 'of', 'words', 'in', 'it.']\n"
     ]
    }
   ],
   "metadata": {}
  },
  {
   "cell_type": "code",
   "execution_count": 52,
   "source": [
    "s = 'This is a long string with a bunch of words in it.'\r\n",
    "print(s.split('i'))"
   ],
   "outputs": [
    {
     "output_type": "stream",
     "name": "stdout",
     "text": [
      "['Th', 's ', 's a long str', 'ng w', 'th a bunch of words ', 'n ', 't.']\n"
     ]
    }
   ],
   "metadata": {}
  },
  {
   "cell_type": "code",
   "execution_count": 54,
   "source": [
    "s = 'This is a long string with a bunch of words in it.'\r\n",
    "l = s.split()\r\n",
    "s2 = ':'.join(l)\r\n",
    "s3 = '--'.join(l)\r\n",
    "print(s)\r\n",
    "print(s2)\r\n",
    "print(s3)"
   ],
   "outputs": [
    {
     "output_type": "stream",
     "name": "stdout",
     "text": [
      "This is a long string with a bunch of words in it.\n",
      "This:is:a:long:string:with:a:bunch:of:words:in:it.\n",
      "This--is--a--long--string--with--a--bunch--of--words--in--it.\n"
     ]
    }
   ],
   "metadata": {}
  },
  {
   "cell_type": "code",
   "execution_count": 56,
   "source": [
    "def main():\r\n",
    "    f = open('data_text1.txt')\r\n",
    "    for line in f:\r\n",
    "        print(line.rstrip())\r\n",
    "\r\n",
    "if __name__ == '__main__':main()"
   ],
   "outputs": [
    {
     "output_type": "stream",
     "name": "stdout",
     "text": [
      "Class\tName\tAge\tScore\tResult\n",
      "A\ts1\t20\t\tPass\n",
      "B\ts2\t19\t95.0\tPass\n",
      "C\ts3\t21\t\tFail\n",
      "A\ts4\t22\t80.0\tPass\n",
      "B\ts5\t24\t70.0\tFail\n",
      "C\ts6\t25\t85.0\tPass\n",
      "C\ts7\t26\t90.0\tPass\n"
     ]
    }
   ],
   "metadata": {}
  },
  {
   "cell_type": "code",
   "execution_count": null,
   "source": [
    "def main():\r\n",
    "    f = open('data_text1.txt')\r\n",
    "    for line in f:\r\n",
    "        print(line.rstrip())\r\n",
    "\r\n",
    "if __name__ == '__main__':main()"
   ],
   "outputs": [],
   "metadata": {}
  },
  {
   "cell_type": "code",
   "execution_count": null,
   "source": [],
   "outputs": [],
   "metadata": {}
  }
 ],
 "metadata": {
  "orig_nbformat": 4,
  "language_info": {
   "name": "python",
   "version": "3.9.2",
   "mimetype": "text/x-python",
   "codemirror_mode": {
    "name": "ipython",
    "version": 3
   },
   "pygments_lexer": "ipython3",
   "nbconvert_exporter": "python",
   "file_extension": ".py"
  },
  "kernelspec": {
   "name": "python3",
   "display_name": "Python 3.9.2 64-bit (system)"
  },
  "interpreter": {
   "hash": "195829679893df85fb9f372eb0bf7189022710e006ac2d6c131134b6390bb137"
  }
 },
 "nbformat": 4,
 "nbformat_minor": 2
}