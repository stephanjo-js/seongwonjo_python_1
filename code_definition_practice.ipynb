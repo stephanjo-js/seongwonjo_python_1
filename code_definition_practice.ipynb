{
 "cells": [
  {
   "cell_type": "code",
   "execution_count": 4,
   "source": [
    "int main()\r\n",
    "{\r\n",
    "    char c;\r\n",
    "\r\n",
    "    printf(\"Enter a character: \");\r\n",
    "    scanf(\"%c\", &c);\r\n",
    "\r\n",
    "    if (isalpha(c) == 0)\r\n",
    "         printf(\"%c is not an alphabet.\", c);\r\n",
    "    else\r\n",
    "         printf(\"%c is an alphabet.\", c);\r\n",
    "\r\n",
    "    return 0;\r\n",
    "\r\n",
    "}"
   ],
   "outputs": [
    {
     "output_type": "error",
     "ename": "SyntaxError",
     "evalue": "invalid syntax (<ipython-input-4-4742b3362945>, line 3)",
     "traceback": [
      "\u001b[1;36m  File \u001b[1;32m\"<ipython-input-4-4742b3362945>\"\u001b[1;36m, line \u001b[1;32m3\u001b[0m\n\u001b[1;33m    char c;\u001b[0m\n\u001b[1;37m         ^\u001b[0m\n\u001b[1;31mSyntaxError\u001b[0m\u001b[1;31m:\u001b[0m invalid syntax\n"
     ]
    }
   ],
   "metadata": {}
  },
  {
   "cell_type": "code",
   "execution_count": 4,
   "source": [
    "def main():\r\n",
    "    game = [ 'Rock', 'Paper', 'Scissors', \"Lizard\", 'Spock' ]\r\n",
    "    print(game[1])\r\n",
    "    print_list(game)\r\n",
    "\r\n",
    "def print_list(o):\r\n",
    "    for i in o: print(i, end=' ')\r\n",
    "    print()\r\n",
    "\r\n",
    "if __name__ == '__main__': main()"
   ],
   "outputs": [
    {
     "output_type": "stream",
     "name": "stdout",
     "text": [
      "Paper\n",
      "Rock Paper Scissors Lizard Spock \n"
     ]
    }
   ],
   "metadata": {}
  },
  {
   "cell_type": "code",
   "execution_count": 11,
   "source": [
    "def main():\r\n",
    "    game = [ 'Rock', 'Paper', 'Scissors', \"Lizard\", 'Spock' ]\r\n",
    "    print(game[1::2])\r\n",
    "    print_list(game)\r\n",
    "\r\n",
    "def print_list(o):\r\n",
    "    for i in o: print(i, end=' ')\r\n",
    "    print()\r\n",
    "\r\n",
    "if __name__ == '__main__': main()"
   ],
   "outputs": [
    {
     "output_type": "stream",
     "name": "stdout",
     "text": [
      "['Paper', 'Lizard']\n",
      "Rock Paper Scissors Lizard Spock \n"
     ]
    }
   ],
   "metadata": {}
  },
  {
   "cell_type": "code",
   "execution_count": 12,
   "source": [
    "def main():\r\n",
    "    game = [ 'Rock', 'Paper', 'Scissors', \"Lizard\", 'Spock' ]\r\n",
    "    i = game.index('Paper')\r\n",
    "    print(game[i])\r\n",
    "    print_list(game)\r\n",
    "\r\n",
    "def print_list(o):\r\n",
    "    for i in o: print(i, end=' ')\r\n",
    "    print()\r\n",
    "\r\n",
    "if __name__ == '__main__': main()"
   ],
   "outputs": [
    {
     "output_type": "stream",
     "name": "stdout",
     "text": [
      "Paper\n",
      "Rock Paper Scissors Lizard Spock \n"
     ]
    }
   ],
   "metadata": {}
  },
  {
   "cell_type": "code",
   "execution_count": 13,
   "source": [
    "def main():\r\n",
    "    game = [ 'Rock', 'Paper', 'Scissors', \"Lizard\", 'Spock' ]\r\n",
    "    i = game.index('Paper')\r\n",
    "    game.append('Computer')\r\n",
    "    print_list(game)\r\n",
    "\r\n",
    "def print_list(o):\r\n",
    "    for i in o: print(i, end=' ')\r\n",
    "    print()\r\n",
    "\r\n",
    "if __name__ == '__main__': main()"
   ],
   "outputs": [
    {
     "output_type": "stream",
     "name": "stdout",
     "text": [
      "Rock Paper Scissors Lizard Spock Computer \n"
     ]
    }
   ],
   "metadata": {}
  },
  {
   "cell_type": "code",
   "execution_count": 15,
   "source": [
    "def main():\r\n",
    "    game = [ 'Rock', 'Paper', 'Scissors', \"Lizard\", 'Spock' ]\r\n",
    "    i = game.index('Paper')\r\n",
    "    game.insert(0,'Computer')\r\n",
    "    print_list(game)\r\n",
    "\r\n",
    "def print_list(o):\r\n",
    "    for i in o: print(i, end=' ')\r\n",
    "    print()\r\n",
    "\r\n",
    "if __name__ == '__main__': main()"
   ],
   "outputs": [
    {
     "output_type": "stream",
     "name": "stdout",
     "text": [
      "Computer Rock Paper Scissors Lizard Spock \n"
     ]
    }
   ],
   "metadata": {}
  },
  {
   "cell_type": "code",
   "execution_count": 16,
   "source": [
    "def main():\r\n",
    "    game = [ 'Rock', 'Paper', 'Scissors', \"Lizard\", 'Spock' ]\r\n",
    "    i = game.index('Paper')\r\n",
    "    game.remove('Paper')\r\n",
    "    print_list(game)\r\n",
    "\r\n",
    "def print_list(o):\r\n",
    "    for i in o: print(i, end=' ')\r\n",
    "    print()\r\n",
    "\r\n",
    "if __name__ == '__main__': main()"
   ],
   "outputs": [
    {
     "output_type": "stream",
     "name": "stdout",
     "text": [
      "Rock Scissors Lizard Spock \n"
     ]
    }
   ],
   "metadata": {}
  },
  {
   "cell_type": "code",
   "execution_count": 17,
   "source": [
    "def main():\r\n",
    "    game = [ 'Rock', 'Paper', 'Scissors', \"Lizard\", 'Spock' ]\r\n",
    "    i = game.index('Paper')\r\n",
    "    x = game.pop()\r\n",
    "    print(x)\r\n",
    "    print_list(game)\r\n",
    "\r\n",
    "def print_list(o):\r\n",
    "    for i in o: print(i, end=' ')\r\n",
    "    print()\r\n",
    "\r\n",
    "if __name__ == '__main__': main()"
   ],
   "outputs": [
    {
     "output_type": "stream",
     "name": "stdout",
     "text": [
      "Spock\n",
      "Rock Paper Scissors Lizard \n"
     ]
    }
   ],
   "metadata": {}
  },
  {
   "cell_type": "code",
   "execution_count": 20,
   "source": [
    "def main():\r\n",
    "    game = [ 'Rock', 'Paper', 'Scissors', \"Lizard\", 'Spock' ]\r\n",
    "    i = game.index('Paper')\r\n",
    "    game.pop(3)\r\n",
    "    del game[1:3]\r\n",
    "    print_list(game)\r\n",
    "\r\n",
    "def print_list(o):\r\n",
    "    for i in o: print(i, end=' ')\r\n",
    "    print()\r\n",
    "\r\n",
    "if __name__ == '__main__': main()"
   ],
   "outputs": [
    {
     "output_type": "stream",
     "name": "stdout",
     "text": [
      "Rock Spock \n"
     ]
    }
   ],
   "metadata": {}
  },
  {
   "cell_type": "code",
   "execution_count": 22,
   "source": [
    "def main():\r\n",
    "    game = [ 'Rock', 'Paper', 'Scissors', \"Lizard\", 'Spock' ]\r\n",
    "    print(len(game))\r\n",
    "    print(', '.join(game))\r\n",
    "    print_list(game)\r\n",
    "\r\n",
    "def print_list(o):\r\n",
    "    for i in o: print(i, end=' ')\r\n",
    "    print()\r\n",
    "\r\n",
    "if __name__ == '__main__': main()"
   ],
   "outputs": [
    {
     "output_type": "stream",
     "name": "stdout",
     "text": [
      "5\n",
      "Rock, Paper, Scissors, Lizard, Spock\n",
      "Rock Paper Scissors Lizard Spock \n"
     ]
    }
   ],
   "metadata": {}
  },
  {
   "cell_type": "code",
   "execution_count": null,
   "source": [
    "def main():\r\n",
    "    game = [ 'Rock', 'Paper', 'Scissors', \"Lizard\", 'Spock' ]\r\n",
    "    i = game.index('Paper')\r\n",
    "    game.pop(3)\r\n",
    "    del game[1:3]\r\n",
    "    print_list(game)\r\n",
    "\r\n",
    "def print_list(o):\r\n",
    "    for i in o: print(i, end=' ')\r\n",
    "    print()\r\n",
    "\r\n",
    "if __name__ == '__main__': main()"
   ],
   "outputs": [],
   "metadata": {}
  },
  {
   "cell_type": "code",
   "execution_count": 26,
   "source": [
    "def main():\r\n",
    "    animals = {'kitten': 'meow', 'puppy': 'ruff!', 'lion': 'grrr', 'giraffe': 'I am a girrafe!', 'dragon': 'rawr'}\r\n",
    "    print_dict(animals)\r\n",
    "\r\n",
    "  #  for v in animals.values(): print\r\n",
    "    \r\n",
    "def print_dict(o):\r\n",
    "    for x in o: print(f'{x}: {o[x]}')\r\n",
    "\r\n",
    "if __name__ == '__main__': main()\r\n",
    "     "
   ],
   "outputs": [
    {
     "output_type": "stream",
     "name": "stdout",
     "text": [
      "kitten: meow\n",
      "puppy: ruff!\n",
      "lion: grrr\n",
      "giraffe: I am a girrafe!\n",
      "dragon: rawr\n"
     ]
    }
   ],
   "metadata": {}
  },
  {
   "cell_type": "code",
   "execution_count": 28,
   "source": [
    "def main():\r\n",
    "    animals = dict(kitten= 'meow', puppy= 'ruff!', lion= 'grrr', giraffe= 'I am a girrafe!', dragon= 'rawr')\r\n",
    "    print_dict(animals)\r\n",
    "\r\n",
    "  #  for v in animals.values(): print\r\n",
    "    \r\n",
    "def print_dict(o):\r\n",
    "    for x in o: print(f'{x}: {o[x]}')\r\n",
    "\r\n",
    "if __name__ == '__main__': main()"
   ],
   "outputs": [
    {
     "output_type": "stream",
     "name": "stdout",
     "text": [
      "kitten: meow\n",
      "puppy: ruff!\n",
      "lion: grrr\n",
      "giraffe: I am a girrafe!\n",
      "dragon: rawr\n"
     ]
    }
   ],
   "metadata": {}
  },
  {
   "cell_type": "code",
   "execution_count": 32,
   "source": [
    "def main():\r\n",
    "    animals = dict(kitten= 'meow', puppy= 'ruff!', lion= 'grrr', giraffe= 'I am a girrafe!', dragon= 'rawr')\r\n",
    "    \r\n",
    "    for k, v in animals.items():\r\n",
    "        print(f'{k}:{v}')\r\n",
    "    # print_dict(animals)\r\n",
    "\r\n",
    "  #  for v in animals.values(): print\r\n",
    "    \r\n",
    "def print_dict(o):\r\n",
    "    for x in o: print(f'{x}: {o[x]}')\r\n",
    "\r\n",
    "if __name__ == '__main__': main()"
   ],
   "outputs": [
    {
     "output_type": "stream",
     "name": "stdout",
     "text": [
      "kitten:meow\n",
      "puppy:ruff!\n",
      "lion:grrr\n",
      "giraffe:I am a girrafe!\n",
      "dragon:rawr\n",
      "kitten: meow\n",
      "puppy: ruff!\n",
      "lion: grrr\n",
      "giraffe: I am a girrafe!\n",
      "dragon: rawr\n"
     ]
    }
   ],
   "metadata": {}
  },
  {
   "cell_type": "code",
   "execution_count": 34,
   "source": [
    "def main():\r\n",
    "    animals = dict(kitten= 'meow', puppy= 'ruff!', lion= 'grrr', giraffe= 'I am a girrafe!', dragon= 'rawr')\r\n",
    "    \r\n",
    "    # for k, v in animals.items():\r\n",
    "    #     print(f'{k}:{v}')\r\n",
    "    print_dict(animals)\r\n",
    "\r\n",
    "  #  for v in animals.values(): print\r\n",
    "    \r\n",
    "def print_dict(o):\r\n",
    "    for k, v in o.items(): print(f'{k}: {v}')\r\n",
    "\r\n",
    "if __name__ == '__main__': main()"
   ],
   "outputs": [
    {
     "output_type": "stream",
     "name": "stdout",
     "text": [
      "kitten: meow\n",
      "puppy: ruff!\n",
      "lion: grrr\n",
      "giraffe: I am a girrafe!\n",
      "dragon: rawr\n"
     ]
    }
   ],
   "metadata": {}
  },
  {
   "cell_type": "code",
   "execution_count": 36,
   "source": [
    "def main():\r\n",
    "    animals = dict(kitten= 'meow', puppy= 'ruff!', lion= 'grrr', giraffe= 'I am a girrafe!', dragon= 'rawr')\r\n",
    "    \r\n",
    "    for k, v in animals.items():\r\n",
    "        print(f'{k}:{v}')\r\n",
    "\r\n",
    "    for k in animals.keys(): print(k)\r\n",
    "\r\n",
    "    print_dict(animals)\r\n",
    "\r\n",
    "  #  for v in animals.values(): print\r\n",
    "    \r\n",
    "def print_dict(o):\r\n",
    "    for k, v in o.items(): print(f'{k}: {v}')\r\n",
    "\r\n",
    "if __name__ == '__main__': main()"
   ],
   "outputs": [
    {
     "output_type": "stream",
     "name": "stdout",
     "text": [
      "kitten:meow\n",
      "puppy:ruff!\n",
      "lion:grrr\n",
      "giraffe:I am a girrafe!\n",
      "dragon:rawr\n",
      "kitten\n",
      "puppy\n",
      "lion\n",
      "giraffe\n",
      "dragon\n",
      "kitten: meow\n",
      "puppy: ruff!\n",
      "lion: grrr\n",
      "giraffe: I am a girrafe!\n",
      "dragon: rawr\n"
     ]
    }
   ],
   "metadata": {}
  },
  {
   "cell_type": "code",
   "execution_count": 39,
   "source": [
    "def main():\r\n",
    "    animals = dict(kitten= 'meow', puppy= 'ruff!', lion= 'grrr', giraffe= 'I am a girrafe!', dragon= 'rawr')\r\n",
    "    \r\n",
    "    # for k, v in animals.items():\r\n",
    "    #     print(f'{k}:{v}')\r\n",
    "\r\n",
    "    # for k in animals.keys(): print(k)\r\n",
    "\r\n",
    "    animals['monkey'] = 'haha'\r\n",
    "    print('lion' in animals)\r\n",
    "\r\n",
    "    print_dict(animals)\r\n",
    "\r\n",
    "  #  for v in animals.values(): print\r\n",
    "    \r\n",
    "def print_dict(o):\r\n",
    "    for k, v in o.items(): print(f'{k}: {v}')\r\n",
    "\r\n",
    "if __name__ == '__main__': main()"
   ],
   "outputs": [
    {
     "output_type": "stream",
     "name": "stdout",
     "text": [
      "True\n",
      "kitten: meow\n",
      "puppy: ruff!\n",
      "lion: grrr\n",
      "giraffe: I am a girrafe!\n",
      "dragon: rawr\n",
      "monkey: haha\n"
     ]
    }
   ],
   "metadata": {}
  },
  {
   "cell_type": "code",
   "execution_count": 40,
   "source": [
    "def main():\r\n",
    "    animals = dict(kitten= 'meow', puppy= 'ruff!', lion= 'grrr', giraffe= 'I am a girrafe!', dragon= 'rawr')\r\n",
    "    \r\n",
    "    # for k, v in animals.items():\r\n",
    "    #     print(f'{k}:{v}')\r\n",
    "\r\n",
    "    # for k in animals.keys(): print(k)\r\n",
    "\r\n",
    "    print('found!' if 'gozilla' in animals else 'nope!')\r\n",
    "\r\n",
    "    print_dict(animals)\r\n",
    "\r\n",
    "  #  for v in animals.values(): print\r\n",
    "    \r\n",
    "def print_dict(o):\r\n",
    "    for k, v in o.items(): print(f'{k}: {v}')\r\n",
    "\r\n",
    "if __name__ == '__main__': main()"
   ],
   "outputs": [
    {
     "output_type": "stream",
     "name": "stdout",
     "text": [
      "nope!\n",
      "kitten: meow\n",
      "puppy: ruff!\n",
      "lion: grrr\n",
      "giraffe: I am a girrafe!\n",
      "dragon: rawr\n"
     ]
    }
   ],
   "metadata": {}
  },
  {
   "cell_type": "code",
   "execution_count": 43,
   "source": [
    "def main():\r\n",
    "    animals = dict(kitten= 'meow', puppy= 'ruff!', lion= 'grrr', giraffe= 'I am a girrafe!', dragon= 'rawr')\r\n",
    "    \r\n",
    "    # for k, v in animals.items():\r\n",
    "    #     print(f'{k}:{v}')\r\n",
    "\r\n",
    "    # for k in animals.keys(): print(k)\r\n",
    "\r\n",
    "    print(animals.get('gozilla'))\r\n",
    "    print(animals.get('lion'))\r\n",
    "\r\n",
    "    print_dict(animals)\r\n",
    "\r\n",
    "  #  for v in animals.values(): print\r\n",
    "    \r\n",
    "def print_dict(o):\r\n",
    "    for k, v in o.items(): print(f'{k}: {v}')\r\n",
    "\r\n",
    "if __name__ == '__main__': main()"
   ],
   "outputs": [
    {
     "output_type": "stream",
     "name": "stdout",
     "text": [
      "None\n",
      "grrr\n",
      "kitten: meow\n",
      "puppy: ruff!\n",
      "lion: grrr\n",
      "giraffe: I am a girrafe!\n",
      "dragon: rawr\n"
     ]
    }
   ],
   "metadata": {}
  },
  {
   "cell_type": "code",
   "execution_count": 53,
   "source": [
    "def main():\r\n",
    "    a = set(\"We're gonna need a bigger boat.\")\r\n",
    "    b = set(\"I'm sorry, Dave. I'm afraid I can't do that.\")\r\n",
    "    print_set(sorted(a))\r\n",
    "    print_set(sorted(b))\r\n",
    "    print_set(sorted(a & b))\r\n",
    "    print_set(a ^ b)\r\n",
    "    print_set(a - b)\r\n",
    "    print_set(a | b)\r\n",
    "\r\n",
    "def print_set(o):\r\n",
    "    print('{', end = '')\r\n",
    "    for x in o: print(x, end = '')\r\n",
    "    print('}')\r\n",
    "\r\n",
    "if __name__ == '__main__': main()"
   ],
   "outputs": [
    {
     "output_type": "stream",
     "name": "stdout",
     "text": [
      "{ '.Wabdeginort}\n",
      "{ ',.DIacdefhimnorstvy}\n",
      "{ '.adeinort}\n",
      "{mgIWfhDy,vbsc}\n",
      "{Wbg}\n",
      "{gIio.fDr'n,vacemht ydbsW}\n"
     ]
    }
   ],
   "metadata": {}
  },
  {
   "cell_type": "code",
   "execution_count": 56,
   "source": [
    "def main():\r\n",
    "    seq = range(11)\r\n",
    "    print_list(seq)\r\n",
    "\r\n",
    "def print_list(o):\r\n",
    "    for x in o: print(x, end = ' ')\r\n",
    "    print()\r\n",
    "\r\n",
    "if __name__ == '__main__': main()"
   ],
   "outputs": [
    {
     "output_type": "stream",
     "name": "stdout",
     "text": [
      "0 1 2 3 4 5 6 7 8 9 10 \n"
     ]
    }
   ],
   "metadata": {}
  },
  {
   "cell_type": "code",
   "execution_count": 57,
   "source": [
    "def main():\r\n",
    "    seq = range(11)\r\n",
    "    seq2 = [x * 2 for x in seq]\r\n",
    "    print_list(seq)\r\n",
    "    print_list(seq2)\r\n",
    "\r\n",
    "def print_list(o):\r\n",
    "    for x in o: print(x, end = ' ')\r\n",
    "    print()\r\n",
    "\r\n",
    "if __name__ == '__main__': main()"
   ],
   "outputs": [
    {
     "output_type": "stream",
     "name": "stdout",
     "text": [
      "0 1 2 3 4 5 6 7 8 9 10 \n",
      "0 2 4 6 8 10 12 14 16 18 20 \n"
     ]
    }
   ],
   "metadata": {}
  },
  {
   "cell_type": "code",
   "execution_count": 58,
   "source": [
    "def main():\r\n",
    "    seq = range(11)\r\n",
    "    seq2 = [x for x in seq if x %3 != 0]\r\n",
    "    print_list(seq)\r\n",
    "    print_list(seq2)\r\n",
    "\r\n",
    "def print_list(o):\r\n",
    "    for x in o: print(x, end = ' ')\r\n",
    "    print()\r\n",
    "\r\n",
    "if __name__ == '__main__': main()"
   ],
   "outputs": [
    {
     "output_type": "stream",
     "name": "stdout",
     "text": [
      "0 1 2 3 4 5 6 7 8 9 10 \n",
      "1 2 4 5 7 8 10 \n"
     ]
    }
   ],
   "metadata": {}
  },
  {
   "cell_type": "code",
   "execution_count": 59,
   "source": [
    "def main():\r\n",
    "    seq = range(11)\r\n",
    "    seq2 = [(x, x**2) for x in seq]\r\n",
    "    print_list(seq)\r\n",
    "    print_list(seq2)\r\n",
    "\r\n",
    "def print_list(o):\r\n",
    "    for x in o: print(x, end = ' ')\r\n",
    "    print()\r\n",
    "\r\n",
    "if __name__ == '__main__': main()"
   ],
   "outputs": [
    {
     "output_type": "stream",
     "name": "stdout",
     "text": [
      "0 1 2 3 4 5 6 7 8 9 10 \n",
      "(0, 0) (1, 1) (2, 4) (3, 9) (4, 16) (5, 25) (6, 36) (7, 49) (8, 64) (9, 81) (10, 100) \n"
     ]
    }
   ],
   "metadata": {}
  },
  {
   "cell_type": "code",
   "execution_count": 60,
   "source": [
    "def main():\r\n",
    "    from math import pi\r\n",
    "\r\n",
    "    seq = range(11)\r\n",
    "    seq2 = [round(pi, i) for i in seq]\r\n",
    "    print_list(seq)\r\n",
    "    print_list(seq2)\r\n",
    "\r\n",
    "def print_list(o):\r\n",
    "    for x in o: print(x, end = ' ')\r\n",
    "    print()\r\n",
    "\r\n",
    "if __name__ == '__main__': main()"
   ],
   "outputs": [
    {
     "output_type": "stream",
     "name": "stdout",
     "text": [
      "0 1 2 3 4 5 6 7 8 9 10 \n",
      "3.0 3.1 3.14 3.142 3.1416 3.14159 3.141593 3.1415927 3.14159265 3.141592654 3.1415926536 \n"
     ]
    }
   ],
   "metadata": {}
  },
  {
   "cell_type": "code",
   "execution_count": 63,
   "source": [
    "def main():\r\n",
    "    from math import pi\r\n",
    "\r\n",
    "    seq = range(11)\r\n",
    "    seq2 = { x: x**2 for x in seq }\r\n",
    "    print_list(seq)\r\n",
    "    print(seq2)\r\n",
    "\r\n",
    "def print_list(o):\r\n",
    "    for x in o: print(x, end = ' ')\r\n",
    "    print()\r\n",
    "\r\n",
    "if __name__ == '__main__': main()"
   ],
   "outputs": [
    {
     "output_type": "stream",
     "name": "stdout",
     "text": [
      "0 1 2 3 4 5 6 7 8 9 10 \n",
      "{0: 0, 1: 1, 2: 4, 3: 9, 4: 16, 5: 25, 6: 36, 7: 49, 8: 64, 9: 81, 10: 100}\n"
     ]
    }
   ],
   "metadata": {}
  },
  {
   "cell_type": "code",
   "execution_count": 65,
   "source": [
    "def main():\r\n",
    "    from math import pi\r\n",
    "\r\n",
    "    seq = range(11)\r\n",
    "    seq2 = { x for x in 'superduper' if x not in 'pd' }\r\n",
    "    print_list(seq)\r\n",
    "    print_list(seq2)\r\n",
    "\r\n",
    "def print_list(o):\r\n",
    "    for x in o: print(x, end = ' ')\r\n",
    "    print()\r\n",
    "\r\n",
    "if __name__ == '__main__': main()"
   ],
   "outputs": [
    {
     "output_type": "stream",
     "name": "stdout",
     "text": [
      "0 1 2 3 4 5 6 7 8 9 10 \n",
      "s e u r \n"
     ]
    }
   ],
   "metadata": {}
  },
  {
   "cell_type": "code",
   "execution_count": 74,
   "source": [
    "class duck:\r\n",
    "    sound = 'quack quack'\r\n",
    "    movement = 'walks lide a duck'\r\n",
    "\r\n",
    "    def quack(self):\r\n",
    "        print(self.sound)\r\n",
    "\r\n",
    "    def move(self):\r\n",
    "        print(self.movement)\r\n",
    "\r\n",
    "def main():\r\n",
    "    donald = duck()\r\n",
    "    donald.quack()\r\n",
    "    donald.move()\r\n",
    "    print(donald.sound)\r\n",
    "    # print(donald.quack)\r\n",
    "    donald.sound\r\n",
    "    \r\n",
    "if __name__ == '__main__': main()"
   ],
   "outputs": [
    {
     "output_type": "stream",
     "name": "stdout",
     "text": [
      "quack quack\n",
      "walks lide a duck\n",
      "quack quack\n"
     ]
    }
   ],
   "metadata": {}
  },
  {
   "cell_type": "code",
   "execution_count": 80,
   "source": [
    "class animal:\r\n",
    "    def __init__(self, type, name, sound):\r\n",
    "        self.type = type\r\n",
    "        self.name = name\r\n",
    "        self.sound = sound\r\n",
    "    def type(self):\r\n",
    "        return self._type\r\n",
    "\r\n",
    "    def name(self):\r\n",
    "        return self._name\r\n",
    "    \r\n",
    "    def sound(self):\r\n",
    "        return self._sound\r\n",
    "\r\n",
    "def print_animal(o):\r\n",
    "    if not isinstance(o, animal):\r\n",
    "        raise TypeError('print_animal(): requires an animal')     \r\n",
    "    print('The {} is named \"{}\" and says \"{}\".'.format(o.type(), o.name(), o.sound()))\r\n",
    "\r\n",
    "def main(): \r\n",
    "    a0 = animal(type = 'kitten', name = 'fluffy', sound = 'rwar')\r\n",
    "    a1 = animal('dcuk', 'donald','quack')\r\n",
    "    print_animal(a0)\r\n",
    "    print_animal(a1)\r\n",
    "    print_animal(animal('velociraptor','veronica','hello'))\r\n",
    "    \r\n",
    "if __name__ == '__main__': main()"
   ],
   "outputs": [
    {
     "output_type": "error",
     "ename": "TypeError",
     "evalue": "'str' object is not callable",
     "traceback": [
      "\u001b[1;31m---------------------------------------------------------------------------\u001b[0m",
      "\u001b[1;31mTypeError\u001b[0m                                 Traceback (most recent call last)",
      "\u001b[1;32m<ipython-input-80-55dc70b932c4>\u001b[0m in \u001b[0;36m<module>\u001b[1;34m\u001b[0m\n\u001b[0;32m     25\u001b[0m     \u001b[0mprint_animal\u001b[0m\u001b[1;33m(\u001b[0m\u001b[0manimal\u001b[0m\u001b[1;33m(\u001b[0m\u001b[1;34m'velociraptor'\u001b[0m\u001b[1;33m,\u001b[0m\u001b[1;34m'veronica'\u001b[0m\u001b[1;33m,\u001b[0m\u001b[1;34m'hello'\u001b[0m\u001b[1;33m)\u001b[0m\u001b[1;33m)\u001b[0m\u001b[1;33m\u001b[0m\u001b[1;33m\u001b[0m\u001b[0m\n\u001b[0;32m     26\u001b[0m \u001b[1;33m\u001b[0m\u001b[0m\n\u001b[1;32m---> 27\u001b[1;33m \u001b[1;32mif\u001b[0m \u001b[0m__name__\u001b[0m \u001b[1;33m==\u001b[0m \u001b[1;34m'__main__'\u001b[0m\u001b[1;33m:\u001b[0m \u001b[0mmain\u001b[0m\u001b[1;33m(\u001b[0m\u001b[1;33m)\u001b[0m\u001b[1;33m\u001b[0m\u001b[1;33m\u001b[0m\u001b[0m\n\u001b[0m",
      "\u001b[1;32m<ipython-input-80-55dc70b932c4>\u001b[0m in \u001b[0;36mmain\u001b[1;34m()\u001b[0m\n\u001b[0;32m     21\u001b[0m     \u001b[0ma0\u001b[0m \u001b[1;33m=\u001b[0m \u001b[0manimal\u001b[0m\u001b[1;33m(\u001b[0m\u001b[0mtype\u001b[0m \u001b[1;33m=\u001b[0m \u001b[1;34m'kitten'\u001b[0m\u001b[1;33m,\u001b[0m \u001b[0mname\u001b[0m \u001b[1;33m=\u001b[0m \u001b[1;34m'fluffy'\u001b[0m\u001b[1;33m,\u001b[0m \u001b[0msound\u001b[0m \u001b[1;33m=\u001b[0m \u001b[1;34m'rwar'\u001b[0m\u001b[1;33m)\u001b[0m\u001b[1;33m\u001b[0m\u001b[1;33m\u001b[0m\u001b[0m\n\u001b[0;32m     22\u001b[0m     \u001b[0ma1\u001b[0m \u001b[1;33m=\u001b[0m \u001b[0manimal\u001b[0m\u001b[1;33m(\u001b[0m\u001b[1;34m'dcuk'\u001b[0m\u001b[1;33m,\u001b[0m \u001b[1;34m'donald'\u001b[0m\u001b[1;33m,\u001b[0m\u001b[1;34m'quack'\u001b[0m\u001b[1;33m)\u001b[0m\u001b[1;33m\u001b[0m\u001b[1;33m\u001b[0m\u001b[0m\n\u001b[1;32m---> 23\u001b[1;33m     \u001b[0mprint_animal\u001b[0m\u001b[1;33m(\u001b[0m\u001b[0ma0\u001b[0m\u001b[1;33m)\u001b[0m\u001b[1;33m\u001b[0m\u001b[1;33m\u001b[0m\u001b[0m\n\u001b[0m\u001b[0;32m     24\u001b[0m     \u001b[0mprint_animal\u001b[0m\u001b[1;33m(\u001b[0m\u001b[0ma1\u001b[0m\u001b[1;33m)\u001b[0m\u001b[1;33m\u001b[0m\u001b[1;33m\u001b[0m\u001b[0m\n\u001b[0;32m     25\u001b[0m     \u001b[0mprint_animal\u001b[0m\u001b[1;33m(\u001b[0m\u001b[0manimal\u001b[0m\u001b[1;33m(\u001b[0m\u001b[1;34m'velociraptor'\u001b[0m\u001b[1;33m,\u001b[0m\u001b[1;34m'veronica'\u001b[0m\u001b[1;33m,\u001b[0m\u001b[1;34m'hello'\u001b[0m\u001b[1;33m)\u001b[0m\u001b[1;33m)\u001b[0m\u001b[1;33m\u001b[0m\u001b[1;33m\u001b[0m\u001b[0m\n",
      "\u001b[1;32m<ipython-input-80-55dc70b932c4>\u001b[0m in \u001b[0;36mprint_animal\u001b[1;34m(o)\u001b[0m\n\u001b[0;32m     16\u001b[0m     \u001b[1;32mif\u001b[0m \u001b[1;32mnot\u001b[0m \u001b[0misinstance\u001b[0m\u001b[1;33m(\u001b[0m\u001b[0mo\u001b[0m\u001b[1;33m,\u001b[0m \u001b[0manimal\u001b[0m\u001b[1;33m)\u001b[0m\u001b[1;33m:\u001b[0m\u001b[1;33m\u001b[0m\u001b[1;33m\u001b[0m\u001b[0m\n\u001b[0;32m     17\u001b[0m         \u001b[1;32mraise\u001b[0m \u001b[0mTypeError\u001b[0m\u001b[1;33m(\u001b[0m\u001b[1;34m'print_animal(): requires an animal'\u001b[0m\u001b[1;33m)\u001b[0m\u001b[1;33m\u001b[0m\u001b[1;33m\u001b[0m\u001b[0m\n\u001b[1;32m---> 18\u001b[1;33m     \u001b[0mprint\u001b[0m\u001b[1;33m(\u001b[0m\u001b[1;34m'The {} is named \"{}\" and says \"{}\".'\u001b[0m\u001b[1;33m.\u001b[0m\u001b[0mformat\u001b[0m\u001b[1;33m(\u001b[0m\u001b[0mo\u001b[0m\u001b[1;33m.\u001b[0m\u001b[0mtype\u001b[0m\u001b[1;33m(\u001b[0m\u001b[1;33m)\u001b[0m\u001b[1;33m,\u001b[0m \u001b[0mo\u001b[0m\u001b[1;33m.\u001b[0m\u001b[0mname\u001b[0m\u001b[1;33m(\u001b[0m\u001b[1;33m)\u001b[0m\u001b[1;33m,\u001b[0m \u001b[0mo\u001b[0m\u001b[1;33m.\u001b[0m\u001b[0msound\u001b[0m\u001b[1;33m(\u001b[0m\u001b[1;33m)\u001b[0m\u001b[1;33m)\u001b[0m\u001b[1;33m)\u001b[0m\u001b[1;33m\u001b[0m\u001b[1;33m\u001b[0m\u001b[0m\n\u001b[0m\u001b[0;32m     19\u001b[0m \u001b[1;33m\u001b[0m\u001b[0m\n\u001b[0;32m     20\u001b[0m \u001b[1;32mdef\u001b[0m \u001b[0mmain\u001b[0m\u001b[1;33m(\u001b[0m\u001b[1;33m)\u001b[0m\u001b[1;33m:\u001b[0m\u001b[1;33m\u001b[0m\u001b[1;33m\u001b[0m\u001b[0m\n",
      "\u001b[1;31mTypeError\u001b[0m: 'str' object is not callable"
     ]
    }
   ],
   "metadata": {}
  },
  {
   "cell_type": "code",
   "execution_count": null,
   "source": [],
   "outputs": [],
   "metadata": {}
  }
 ],
 "metadata": {
  "orig_nbformat": 4,
  "language_info": {
   "name": "python",
   "version": "3.9.2",
   "mimetype": "text/x-python",
   "codemirror_mode": {
    "name": "ipython",
    "version": 3
   },
   "pygments_lexer": "ipython3",
   "nbconvert_exporter": "python",
   "file_extension": ".py"
  },
  "kernelspec": {
   "name": "python3",
   "display_name": "Python 3.9.2 64-bit (system)"
  },
  "interpreter": {
   "hash": "195829679893df85fb9f372eb0bf7189022710e006ac2d6c131134b6390bb137"
  }
 },
 "nbformat": 4,
 "nbformat_minor": 2
}